{
 "cells": [
  {
   "cell_type": "markdown",
   "metadata": {},
   "source": [
    "# Week 5: Functions"
   ]
  },
  {
   "cell_type": "markdown",
   "metadata": {},
   "source": [
    "# Monday - Creating and Calling Functions"
   ]
  },
  {
   "cell_type": "code",
   "execution_count": 1,
   "metadata": {},
   "outputs": [
    {
     "name": "stdout",
     "output_type": "stream",
     "text": [
      "Name: John Smith\n",
      "Age:45\n",
      "Name: John Smith\n",
      "Age:45\n"
     ]
    }
   ],
   "source": [
    "\"\"\"\"\n",
    "A function is a block of code which only runs when it is called\n",
    "You can pass datra, known as parameters, into a function \n",
    "A function can return data as a result\n",
    "\n",
    "All functions are generally associated with a single task or procedure. \n",
    "\n",
    "All functions begin with 'def' followed by the name of the function, then parameters in parentheses, then \n",
    "a colon\n",
    "\"\"\"\n",
    "\n",
    "#Writing your first function \n",
    "def printInfo():    #defines what the function does when called\n",
    "    print(\"Name: John Smith\")\n",
    "    print(\"Age:45\")\n",
    "printInfo()     #calls the function to run\n",
    "printInfo()     #calls the function again"
   ]
  },
  {
   "cell_type": "code",
   "execution_count": null,
   "metadata": {},
   "outputs": [
    {
     "name": "stdout",
     "output_type": "stream",
     "text": [
      "15\n"
     ]
    }
   ],
   "source": [
    "#performing a calculation in a function \n",
    "def calc():\n",
    "    x, y = 5, 10\n",
    "    print(x+y)\n",
    "calc()      #will run the block of code wihtin calc and output 15"
   ]
  },
  {
   "cell_type": "code",
   "execution_count": 3,
   "metadata": {},
   "outputs": [
    {
     "name": "stdout",
     "output_type": "stream",
     "text": [
      "Roisin McCague\n"
     ]
    }
   ],
   "source": [
    "#Monday Exercise 1: Define a function that prints out your name when called\n",
    "def myName():\n",
    "    print(\"Roisin McCague\")\n",
    "myName()"
   ]
  },
  {
   "cell_type": "code",
   "execution_count": 6,
   "metadata": {},
   "outputs": [
    {
     "name": "stdout",
     "output_type": "stream",
     "text": [
      "salami \n",
      "onion \n",
      "mushroom \n",
      "tomato \n",
      "cheese\n",
      "salami \n",
      "onion \n",
      "mushroom \n",
      "tomato \n",
      "cheese\n",
      "salami \n",
      "onion \n",
      "mushroom \n",
      "tomato \n",
      "cheese\n"
     ]
    }
   ],
   "source": [
    "#Monday Exercise 2; define function that prints out all your fav pizza toppings and call it 3 times\n",
    "def pizzaToppings():\n",
    "    print(\"salami \\nonion \\nmushroom \\ntomato \\ncheese\")\n",
    "pizzaToppings()\n",
    "pizzaToppings()\n",
    "pizzaToppings()"
   ]
  },
  {
   "cell_type": "markdown",
   "metadata": {},
   "source": [
    "# Tuesday - Parameters"
   ]
  },
  {
   "cell_type": "code",
   "execution_count": 7,
   "metadata": {},
   "outputs": [
    {
     "name": "stdout",
     "output_type": "stream",
     "text": [
      "Your name is: John Smith\n",
      "Your name is: Amanda\n"
     ]
    }
   ],
   "source": [
    "\"\"\"\"\n",
    "To make functions that are modular, need to use parameters, defined in the parenthesis of the function\n",
    "\"\"\"\n",
    "\n",
    "#Passing a single parameter into a function \n",
    "def printName(full_name):\n",
    "    print(\"Your name is: {}\".format(full_name))\n",
    "printName(\"John Smith\")\n",
    "printName(\"Amanda\")"
   ]
  },
  {
   "cell_type": "code",
   "execution_count": 8,
   "metadata": {},
   "outputs": [
    {
     "name": "stdout",
     "output_type": "stream",
     "text": [
      "5 + 8 = 13\n",
      "3.5 + 5.5 = 9.0\n"
     ]
    }
   ],
   "source": [
    "#passing multipled parameters into a function \n",
    "def addNums(num1, num2):\n",
    "    result = num1 + num2\n",
    "    print(\"{} + {} = {}\".format(num1, num2, result))\n",
    "addNums(5, 8)\n",
    "addNums(3.5, 5.5)"
   ]
  },
  {
   "cell_type": "code",
   "execution_count": 11,
   "metadata": {},
   "outputs": [
    {
     "name": "stdout",
     "output_type": "stream",
     "text": [
      "4\n",
      "16\n",
      "25\n",
      "100\n",
      "1\n",
      "9\n",
      "36\n"
     ]
    }
   ],
   "source": [
    "#using a function to square all information using alist\n",
    "numbers1 = [2, 4, 5, 10]\n",
    "numbers2 = [1, 3, 6]\n",
    "def square(nums):\n",
    "    for num in nums:\n",
    "        print(num**2)\n",
    "square(numbers1)\n",
    "square(numbers2)"
   ]
  },
  {
   "cell_type": "code",
   "execution_count": null,
   "metadata": {},
   "outputs": [
    {
     "name": "stdout",
     "output_type": "stream",
     "text": [
      "Area: 12.56\n"
     ]
    }
   ],
   "source": [
    "#setting default parameter values\n",
    "def calcArea(r, pi=3.14):\n",
    "    area = pi * (r**2)\n",
    "    print(\"Area: {}\".format(area))\n",
    "calcArea(2)\n",
    "\n",
    "#Note that default parameters must always go after non-default parameters"
   ]
  },
  {
   "cell_type": "code",
   "execution_count": null,
   "metadata": {},
   "outputs": [
    {
     "name": "stdout",
     "output_type": "stream",
     "text": [
      "John Smith\n",
      "John Paul Smith\n"
     ]
    }
   ],
   "source": [
    "#Setting default parameter values\n",
    "def printName(first, last, middle=\"\"):      #makes middle optional\n",
    "    if middle:\n",
    "        print(\"{} {} {}\".format(first, middle, last))\n",
    "    else:\n",
    "        print(\"{} {}\".format(first, last))\n",
    "printName(\"John\", \"Smith\")\n",
    "printName(\"John\", \"Smith\", \"Paul\")"
   ]
  },
  {
   "cell_type": "code",
   "execution_count": 1,
   "metadata": {},
   "outputs": [
    {
     "name": "stdout",
     "output_type": "stream",
     "text": [
      "5\n",
      "2.5\n"
     ]
    }
   ],
   "source": [
    "#explicitly assigning values to parameters by referencing the name\n",
    "def addNums(num1, num2):\n",
    "    print(num1)\n",
    "    print(num2)\n",
    "addNums(5, num2 = 2.5)"
   ]
  },
  {
   "cell_type": "code",
   "execution_count": 2,
   "metadata": {},
   "outputs": [
    {
     "name": "stdout",
     "output_type": "stream",
     "text": [
      "<class 'tuple'>\n",
      "5\n",
      "True\n",
      "Jess\n"
     ]
    }
   ],
   "source": [
    "#using args parameter to take in a tuple of arbitraty values\n",
    "def outputData(name, *args):\n",
    "    print(type(args))\n",
    "    for arg in args:\n",
    "        print(arg)\n",
    "outputData(\"John Smith\", 5, True, \"Jess\")"
   ]
  },
  {
   "cell_type": "code",
   "execution_count": 3,
   "metadata": {},
   "outputs": [
    {
     "name": "stdout",
     "output_type": "stream",
     "text": [
      "<class 'dict'>\n",
      "John Smith\n",
      "5\n"
     ]
    }
   ],
   "source": [
    "#Kwargs (keyword args) parameters to take in a dictionary of arbitrary values\n",
    "def outputData(**kwargs):\n",
    "    print(type(kwargs))\n",
    "    print(kwargs[\"name\"])\n",
    "    print(kwargs[\"num\"])\n",
    "outputData(name = \"John Smith\", num = 5, b = True)"
   ]
  },
  {
   "cell_type": "code",
   "execution_count": 40,
   "metadata": {},
   "outputs": [
    {
     "name": "stdout",
     "output_type": "stream",
     "text": [
      "You entered: Cat\n",
      "Starts with capital\n"
     ]
    }
   ],
   "source": [
    "\"\"\"\n",
    "Tuesday exercise 1: ask user to input word, and pass that word into a function that checks \n",
    "if the word starts with an uppercase. If it does output \"True\", otherwise \"False\" \n",
    "\"\"\"\n",
    "def caseCheck(word):\n",
    "    print(\"You entered: {}\".format(word))\n",
    "    if word[0].isupper():\n",
    "        print(\"Starts with capital\")\n",
    "    else:\n",
    "        print(\"Does not start with capital\")\n",
    "\n",
    "caseCheck(input(\"enter word:\"))"
   ]
  },
  {
   "cell_type": "code",
   "execution_count": 19,
   "metadata": {},
   "outputs": [
    {
     "name": "stdout",
     "output_type": "stream",
     "text": [
      "no name passed in\n"
     ]
    }
   ],
   "source": [
    "\"\"\"\n",
    "No Name: Define a function that takes in two arguments, first and last name, \n",
    "and makes both optional. If no values passed into the parameters, if should\n",
    "output \"no name passed in\"; otherwise it should print out the name\n",
    "\"\"\" \n",
    "\n",
    "def nameCheck(first=\"\", last=\"\"):\n",
    "    if first and last:\n",
    "        print(\"{} {}\".format(first, last))\n",
    "    elif first:\n",
    "        print(\"{}\".format(first))\n",
    "    elif last:\n",
    "        print(\"{}\".format(last))\n",
    "    else:\n",
    "        print(\"no name passed in\")\n",
    "\n",
    "nameCheck(input(\"First name:\"), input(\"last name\"))"
   ]
  },
  {
   "cell_type": "markdown",
   "metadata": {},
   "source": [
    "# Wednesday: return statement"
   ]
  },
  {
   "cell_type": "code",
   "execution_count": 20,
   "metadata": {},
   "outputs": [
    {
     "name": "stdout",
     "output_type": "stream",
     "text": [
      "10.0\n",
      "20\n"
     ]
    }
   ],
   "source": [
    "#using return keyword to return the sum of two numbers\n",
    "def addNums(num1, num2):\n",
    "    return num1 + num2\n",
    "num = addNums(5.5, 4.5)     #saves returned value into num\n",
    "print(num)\n",
    "print(addNums(10, 10))   #doesn't save returned value"
   ]
  },
  {
   "cell_type": "code",
   "execution_count": 43,
   "metadata": {},
   "outputs": [
    {
     "name": "stdout",
     "output_type": "stream",
     "text": [
      "5\n"
     ]
    }
   ],
   "source": [
    "def addNums2(num1, num2):\n",
    "    return num1 + num2\n",
    "\n",
    "result = addNums2(2, 3)\n",
    "print(result)"
   ]
  },
  {
   "cell_type": "code",
   "execution_count": null,
   "metadata": {},
   "outputs": [
    {
     "name": "stdout",
     "output_type": "stream",
     "text": [
      "True\n"
     ]
    }
   ],
   "source": [
    "#shorthand syntax using a ternary operator\n",
    "def searchList(aList, el):\n",
    "    return True if el in aList else False\n",
    "result = searchList([\"one\", 2, \"three\"], 2)     #result = True, as 'el' (2) is in 'alist' \n",
    "print(result)\n"
   ]
  },
  {
   "cell_type": "code",
   "execution_count": 30,
   "metadata": {},
   "outputs": [
    {
     "name": "stdout",
     "output_type": "stream",
     "text": [
      "Roisin McCague\n"
     ]
    }
   ],
   "source": [
    "#wednesday exercise 1: Full name\n",
    "#create a function that takes in a first and last name and returns the two names together\n",
    "def fullName(first, last):\n",
    "    return first + \" \" + last \n",
    "name = fullName(\"Roisin\", \"McCague\")\n",
    "print(name)"
   ]
  },
  {
   "cell_type": "code",
   "execution_count": 32,
   "metadata": {},
   "outputs": [
    {
     "data": {
      "text/plain": [
       "'Word world'"
      ]
     },
     "execution_count": 32,
     "metadata": {},
     "output_type": "execute_result"
    }
   ],
   "source": [
    "#Wednesday exercise 2; user input\n",
    "#within a function, ask for user input. Have this function return that input to \n",
    "#be stored in a variable outside of the function, then print the output\n",
    "\n",
    "def userInput():\n",
    "    word1 = input(\"Enter first word:\")\n",
    "    word2 = input(\"Enter a second word:\")\n",
    "    return word1 + \" \" + word2\n",
    "userInput()\n"
   ]
  },
  {
   "cell_type": "markdown",
   "metadata": {},
   "source": [
    "# Thursday; Scope\n",
    "scope deals with accessibility of variables declared within a program. \n",
    "three types of scope - global, function, and class. \n",
    "Global - declare a variable to be accessible to an entire file or application \n",
    "function - variables being declared and accessible only within functions"
   ]
  },
  {
   "cell_type": "code",
   "execution_count": 1,
   "metadata": {},
   "outputs": [
    {
     "name": "stdout",
     "output_type": "stream",
     "text": [
      "function\n"
     ]
    }
   ],
   "source": [
    "#Accessing variables defined in a function \n",
    "def scopeTest():\n",
    "    word = \"function\"\n",
    "    return word\n",
    "value = scopeTest()\n",
    "print(value)"
   ]
  },
  {
   "cell_type": "code",
   "execution_count": null,
   "metadata": {},
   "outputs": [
    {
     "name": "stdout",
     "output_type": "stream",
     "text": [
      "Before Altering: ['baseball', 'football', 'hockey', 'basketball']\n",
      "After Altering: ['soccer', 'football', 'hockey', 'basketball']\n"
     ]
    }
   ],
   "source": [
    "#changing list item values by index. When passing variables into a function it generally only passes the \n",
    "#value and not the variable itself, except when changing information by index, as indexes word through \n",
    "#memory location and not reference. See below\n",
    "sports = [\"baseball\", \"football\", \"hockey\", \"basketball\"]\n",
    "def change(aList):\n",
    "    aList[0] = \"soccer\"\n",
    "print(\"Before Altering: {}\".format(sports))\n",
    "change(sports)\n",
    "print(\"After Altering: {}\".format(sports))"
   ]
  },
  {
   "cell_type": "code",
   "execution_count": 48,
   "metadata": {},
   "outputs": [
    {
     "name": "stdout",
     "output_type": "stream",
     "text": [
      "['Bob', 'Rich', 'Amanda']\n"
     ]
    },
    {
     "name": "stdout",
     "output_type": "stream",
     "text": [
      "original list: ['Bob', 'Rich', 'Amanda']\n",
      "New list: ['Bob', 'Rich', 'Bill']\n"
     ]
    }
   ],
   "source": [
    "#Thursday exercise 1: create a function that will change the list passed in with a parameter\n",
    "#of name at a given index. i.e. pass \"bill\" and at index 1, change \"rich\" to \"bill\"\n",
    "names = [\"Bob\", \"Rich\", \"Amanda\"]\n",
    "print(names)\n",
    "index = int(input(\"What index do you want to change?\"))\n",
    "name = str(input(\"What is the new name you want to input?\"))\n",
    "\n",
    "def changeName(aList, name, index):\n",
    "    aList[index] = name\n",
    "print(\"original list: {}\".format(names))\n",
    "changeName(names, name, index)\n",
    "print(\"New list: {}\".format(names))"
   ]
  },
  {
   "cell_type": "code",
   "execution_count": 53,
   "metadata": {},
   "outputs": [
    {
     "name": "stdout",
     "output_type": "stream",
     "text": [
      "6\n"
     ]
    }
   ],
   "source": [
    "#write a program that asks a user for one words\n",
    "#then write a function that tells the user how many letters in the word\n",
    "\n",
    "\n",
    "def numChar(word):\n",
    "    num = len(word)\n",
    "    return num\n",
    "\n",
    "num2 = numChar(input(\"Enter a word:\"))\n",
    "print(num2)"
   ]
  },
  {
   "cell_type": "markdown",
   "metadata": {},
   "source": [
    "# Friday: Creating a Shopping Cart"
   ]
  },
  {
   "cell_type": "code",
   "execution_count": null,
   "metadata": {},
   "outputs": [
    {
     "ename": "TypeError",
     "evalue": "'builtin_function_or_method' object is not subscriptable",
     "output_type": "error",
     "traceback": [
      "\u001b[0;31m---------------------------------------------------------------------------\u001b[0m",
      "\u001b[0;31mTypeError\u001b[0m                                 Traceback (most recent call last)",
      "Cell \u001b[0;32mIn[32], line 72\u001b[0m\n\u001b[1;32m     69\u001b[0m         \u001b[38;5;28;01melse\u001b[39;00m:\n\u001b[1;32m     70\u001b[0m             \u001b[38;5;28mprint\u001b[39m(\u001b[38;5;124m\"\u001b[39m\u001b[38;5;124mSorry, that was not an option.\u001b[39m\u001b[38;5;124m\"\u001b[39m)\n\u001b[0;32m---> 72\u001b[0m \u001b[43mmain\u001b[49m\u001b[43m(\u001b[49m\u001b[43m)\u001b[49m  \u001b[38;5;66;03m#run the program\u001b[39;00m\n",
      "Cell \u001b[0;32mIn[32], line 64\u001b[0m, in \u001b[0;36mmain\u001b[0;34m()\u001b[0m\n\u001b[1;32m     62\u001b[0m     showCart()\n\u001b[1;32m     63\u001b[0m     item \u001b[38;5;241m=\u001b[39m \u001b[38;5;28minput\u001b[39m(\u001b[38;5;124m\"\u001b[39m\u001b[38;5;124mWhat item would you like to remove?\u001b[39m\u001b[38;5;124m\"\u001b[39m)\u001b[38;5;241m.\u001b[39mtitle()\n\u001b[0;32m---> 64\u001b[0m     \u001b[43mremoveItem\u001b[49m\u001b[43m(\u001b[49m\u001b[43mitem\u001b[49m\u001b[43m)\u001b[49m\n\u001b[1;32m     65\u001b[0m \u001b[38;5;28;01melif\u001b[39;00m ans \u001b[38;5;241m==\u001b[39m \u001b[38;5;124m\"\u001b[39m\u001b[38;5;124mshow\u001b[39m\u001b[38;5;124m\"\u001b[39m:\n\u001b[1;32m     66\u001b[0m     showCart()\n",
      "Cell \u001b[0;32mIn[32], line 20\u001b[0m, in \u001b[0;36mremoveItem\u001b[0;34m(item)\u001b[0m\n\u001b[1;32m     18\u001b[0m     num2 \u001b[38;5;241m=\u001b[39m \u001b[38;5;28mint\u001b[39m(num1 \u001b[38;5;241m-\u001b[39m \u001b[38;5;241m1\u001b[39m)\n\u001b[1;32m     19\u001b[0m     num3 \u001b[38;5;241m=\u001b[39m cart[num2]\n\u001b[0;32m---> 20\u001b[0m     \u001b[43mcart\u001b[49m\u001b[38;5;241;43m.\u001b[39;49m\u001b[43mremove\u001b[49m\u001b[43m[\u001b[49m\u001b[43mnum3\u001b[49m\u001b[43m]\u001b[49m\n\u001b[1;32m     21\u001b[0m     \u001b[38;5;28mprint\u001b[39m(\u001b[38;5;124m\"\u001b[39m\u001b[38;5;132;01m{}\u001b[39;00m\u001b[38;5;124m has been removed\u001b[39m\u001b[38;5;124m\"\u001b[39m\u001b[38;5;241m.\u001b[39mformat(item))\n\u001b[1;32m     22\u001b[0m \u001b[38;5;28;01melse\u001b[39;00m:\n",
      "\u001b[0;31mTypeError\u001b[0m: 'builtin_function_or_method' object is not subscriptable"
     ]
    }
   ],
   "source": [
    "#import necessary functions\n",
    "from IPython.display import clear_output\n",
    "#global list variable, to be accessible through whole program\n",
    "\n",
    "cart = []\n",
    "\n",
    "#creat function to add items to cart\n",
    "def addItem(item):\n",
    "    clear_output()\n",
    "    cart.append(item)\n",
    "    print(\"{} has been added.\".format(item))\n",
    "\n",
    "#Create function to remove items from cart. \n",
    "def removeItem(item):\n",
    "    clear_output()\n",
    "    if item.isdigit():\n",
    "        num1 = int(item)\n",
    "        num2 = num1 - 1\n",
    "        num3 = cart[num2]\n",
    "        cart.remove[num3]\n",
    "        print(\"{} has been removed\".format(item))\n",
    "    else:\n",
    "        try:\n",
    "            cart.remove(item)\n",
    "            print(\"{} has been removed\".format(item))\n",
    "        except: #except, as if the item isn't in the list the program would crash\n",
    "            print(\"Sorry, we could not remove that item\")\n",
    "\n",
    "#creat a function to show the items in the cart\n",
    "def showCart():\n",
    "    clear_output()\n",
    "    if cart:\n",
    "        print(\"Here is your cart:\")\n",
    "        for item in cart: \n",
    "            num = cart.index(item) + 1\n",
    "            print(\"{}) {}\".format(num, item))\n",
    "    else:\n",
    "        print(\"Your cart is empty.\")\n",
    "\n",
    "#create function to clear items from cart\n",
    "def clearCart():\n",
    "    clear_output()\n",
    "    cart.clear()\n",
    "    print(\"Your cart is empty.\")\n",
    "\n",
    "#Creat main function that loops until the user quits\n",
    "def main():\n",
    "    done = False\n",
    "\n",
    "    while not done:\n",
    "        ans = input(\"quit/add/remove/show/clear: \".lower())\n",
    "       \n",
    "        #base case\n",
    "        if ans == \"quit\":\n",
    "            showCart()\n",
    "            print(\"Thanks for using our program.\")\n",
    "            done = True\n",
    "        elif ans == \"add\":\n",
    "            item = input(\"What would you like to add?\").title()\n",
    "            addItem(item)\n",
    "        elif ans == \"remove\":\n",
    "            showCart()\n",
    "            item = input(\"What item would you like to remove?\").title()\n",
    "            removeItem(item)\n",
    "        elif ans == \"show\":\n",
    "            showCart()\n",
    "        elif ans == \"clear\":\n",
    "            clearCart()\n",
    "        else:\n",
    "            print(\"Sorry, that was not an option.\")\n",
    "\n",
    "main()  #run the program"
   ]
  },
  {
   "cell_type": "markdown",
   "metadata": {},
   "source": [
    "# Friday Workshop"
   ]
  },
  {
   "cell_type": "code",
   "execution_count": 35,
   "metadata": {},
   "outputs": [
    {
     "name": "stdout",
     "output_type": "stream",
     "text": [
      "20\n"
     ]
    }
   ],
   "source": [
    "def multiplyNums(num1, num2):\n",
    "    result = num1 * num2\n",
    "    print(result)\n",
    "multiplyNums(4, 5)"
   ]
  },
  {
   "cell_type": "code",
   "execution_count": null,
   "metadata": {},
   "outputs": [],
   "source": []
  }
 ],
 "metadata": {
  "kernelspec": {
   "display_name": "Python 3",
   "language": "python",
   "name": "python3"
  },
  "language_info": {
   "codemirror_mode": {
    "name": "ipython",
    "version": 3
   },
   "file_extension": ".py",
   "mimetype": "text/x-python",
   "name": "python",
   "nbconvert_exporter": "python",
   "pygments_lexer": "ipython3",
   "version": "3.10.5"
  }
 },
 "nbformat": 4,
 "nbformat_minor": 2
}
