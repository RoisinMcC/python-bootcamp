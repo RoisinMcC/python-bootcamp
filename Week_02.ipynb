{
 "cells": [
  {
   "cell_type": "markdown",
   "metadata": {},
   "source": [
    "# Comments & Basic Data Types"
   ]
  },
  {
   "cell_type": "code",
   "execution_count": null,
   "metadata": {},
   "outputs": [
    {
     "name": "stdout",
     "output_type": "stream",
     "text": [
      "Hello\n"
     ]
    }
   ],
   "source": [
    "\"\"\"\n",
    "    This is a multi-line comment\n",
    "\"\"\" \n",
    "print(\"Hello\") # this is a comment"
   ]
  },
  {
   "cell_type": "code",
   "execution_count": null,
   "metadata": {},
   "outputs": [
    {
     "name": "stdout",
     "output_type": "stream",
     "text": [
      "Hello\n"
     ]
    }
   ],
   "source": [
    "\"\"\"\n",
    "    This is a multi-line comment\n",
    "\"\"\" \n",
    "print(\"Hello\") # this is a comment"
   ]
  },
  {
   "cell_type": "code",
   "execution_count": null,
   "metadata": {},
   "outputs": [
    {
     "name": "stdout",
     "output_type": "stream",
     "text": [
      "2\n",
      "10\n"
     ]
    }
   ],
   "source": [
    "# the following are all integers\n",
    "print(2)\n",
    "print(10)"
   ]
  },
  {
   "cell_type": "code",
   "execution_count": null,
   "metadata": {},
   "outputs": [
    {
     "name": "stdout",
     "output_type": "stream",
     "text": [
      "10.953\n",
      "8.0\n"
     ]
    }
   ],
   "source": [
    "#the following are all floats\n",
    "print(10.953)\n",
    "print(8.0) # even this is a float number"
   ]
  },
  {
   "cell_type": "code",
   "execution_count": null,
   "metadata": {},
   "outputs": [
    {
     "name": "stdout",
     "output_type": "stream",
     "text": [
      "True\n",
      "False\n"
     ]
    }
   ],
   "source": [
    "#the following are booleans\n",
    "print(True)\n",
    "print(False) #True and False must be capitalised for this to work - otherwise gives a NameError"
   ]
  },
  {
   "cell_type": "code",
   "execution_count": null,
   "metadata": {},
   "outputs": [
    {
     "name": "stdout",
     "output_type": "stream",
     "text": [
      " \n",
      "There's a nake in my boot!\n",
      "True\n"
     ]
    }
   ],
   "source": [
    "# the following are strings\n",
    "print(\" \")\n",
    "print (\"There's a nake in my boot!\")\n",
    "print('True')"
   ]
  },
  {
   "cell_type": "code",
   "execution_count": null,
   "metadata": {},
   "outputs": [
    {
     "name": "stdout",
     "output_type": "stream",
     "text": [
      "Roisin McCague\n"
     ]
    },
    {
     "data": {
      "text/plain": [
       "type"
      ]
     },
     "execution_count": 16,
     "metadata": {},
     "output_type": "execute_result"
    }
   ],
   "source": [
    "# Monday exercises\n",
    "print(\"Roisin McCague\")"
   ]
  },
  {
   "cell_type": "code",
   "execution_count": null,
   "metadata": {},
   "outputs": [
    {
     "data": {
      "text/plain": [
       "type"
      ]
     },
     "execution_count": 14,
     "metadata": {},
     "output_type": "execute_result"
    }
   ],
   "source": [
    "# will output <class 'int'>\n",
    "type(int)"
   ]
  },
  {
   "cell_type": "markdown",
   "metadata": {},
   "source": [
    "Variables"
   ]
  },
  {
   "cell_type": "code",
   "execution_count": null,
   "metadata": {},
   "outputs": [
    {
     "name": "stdout",
     "output_type": "stream",
     "text": [
      "5 ,  8.4\n"
     ]
    }
   ],
   "source": [
    "num1 = 5 #storing an integer into a variable\n",
    "num2 = 8.4 #storing a float into a variable\n",
    "print(num1,\", \", num2) #youcan print multiple items using commas"
   ]
  },
  {
   "cell_type": "code",
   "execution_count": null,
   "metadata": {},
   "outputs": [
    {
     "name": "stdout",
     "output_type": "stream",
     "text": [
      "True\n"
     ]
    }
   ],
   "source": [
    "#storing a boolean into a variable\n",
    "switch = True\n",
    "print(switch)"
   ]
  },
  {
   "cell_type": "code",
   "execution_count": null,
   "metadata": {},
   "outputs": [
    {
     "name": "stdout",
     "output_type": "stream",
     "text": [
      "John Smith 9\n"
     ]
    }
   ],
   "source": [
    "#storing strings into a variable\n",
    "name = 'John Smith'\n",
    "fave_number = '9'\n",
    "print(name, fave_number) #will print 9 next to the name"
   ]
  },
  {
   "cell_type": "code",
   "execution_count": null,
   "metadata": {},
   "outputs": [
    {
     "name": "stdout",
     "output_type": "stream",
     "text": [
      "John Smith 's favourite number is  9\n"
     ]
    }
   ],
   "source": [
    "#storing strings into a variable\n",
    "name = 'John Smith'\n",
    "fave_number = '9'\n",
    "print(name,\"'s favourite number is \", fave_number) #will print 9 next to the name"
   ]
  },
  {
   "cell_type": "code",
   "execution_count": null,
   "metadata": {},
   "outputs": [
    {
     "name": "stdout",
     "output_type": "stream",
     "text": [
      "13.4\n"
     ]
    }
   ],
   "source": [
    "#using two variables to create another variable\n",
    "result = num1 + num2\n",
    "print(result)"
   ]
  },
  {
   "cell_type": "code",
   "execution_count": null,
   "metadata": {},
   "outputs": [
    {
     "name": "stdout",
     "output_type": "stream",
     "text": [
      "14.4\n",
      "72.0\n"
     ]
    }
   ],
   "source": [
    "#adding, deleting, multiplying, dividing from a variable\n",
    "result += 1 #same as saying result = result + 1\n",
    "print(result)\n",
    "result *= num1 #same as saying result = result * num1\n",
    "print(result)"
   ]
  },
  {
   "cell_type": "code",
   "execution_count": null,
   "metadata": {},
   "outputs": [
    {
     "name": "stdout",
     "output_type": "stream",
     "text": [
      "John\n",
      "Sam\n"
     ]
    }
   ],
   "source": [
    "#defining a variable and overwriting it's value\n",
    "name = 'John'\n",
    "print(name)\n",
    "name = 'Sam'\n",
    "print(name)"
   ]
  },
  {
   "cell_type": "code",
   "execution_count": null,
   "metadata": {},
   "outputs": [
    {
     "name": "stdout",
     "output_type": "stream",
     "text": [
      "3 + 10 = 13\n"
     ]
    }
   ],
   "source": [
    "# Tuesday excercise 1\n",
    "x = 3\n",
    "y = 10\n",
    "result = x+y\n",
    "print(x,\"+\",y,\"=\",result)"
   ]
  },
  {
   "cell_type": "code",
   "execution_count": null,
   "metadata": {},
   "outputs": [
    {
     "name": "stdout",
     "output_type": "stream",
     "text": [
      "a rectangle with height = 245.54 and width = 13.66 has an area = 3354.0764\n"
     ]
    }
   ],
   "source": [
    "#Tuesday exercise 2\n",
    "height = 245.54 \n",
    "width = 13.66\n",
    "area = height*width\n",
    "print(\"a rectangle with height =\",height,\"and width =\",width,\"has an area =\",area)"
   ]
  },
  {
   "cell_type": "markdown",
   "metadata": {},
   "source": [
    "# Wednesday - Working with strings"
   ]
  },
  {
   "cell_type": "code",
   "execution_count": 1,
   "metadata": {},
   "outputs": [
    {
     "name": "stdout",
     "output_type": "stream",
     "text": [
      "John Smith\n"
     ]
    }
   ],
   "source": [
    "#using the addition operator without variables\n",
    "name = \"John\" + \" \" + \"Smith\"\n",
    "print(name)"
   ]
  },
  {
   "cell_type": "code",
   "execution_count": 3,
   "metadata": {},
   "outputs": [
    {
     "name": "stdout",
     "output_type": "stream",
     "text": [
      "John Smith\n"
     ]
    }
   ],
   "source": [
    "#using the addition operator with variables\n",
    "first_name = \"John\"\n",
    "last_name = \"Smith\"\n",
    "full_name = first_name + \" \" + last_name\n",
    "print(full_name)"
   ]
  },
  {
   "cell_type": "code",
   "execution_count": 7,
   "metadata": {},
   "outputs": [
    {
     "name": "stdout",
     "output_type": "stream",
     "text": [
      "Hello John\n",
      "Hello John, you are 28 years old!\n"
     ]
    }
   ],
   "source": [
    "#Injecting variables using the format method\n",
    "name = \"John\"\n",
    "print(\"Hello {}\".format(name)) #make sure there are no spaces in the curly brackets, or it will not work with the .format\n",
    "print(\"Hello {}, you are {} years old!\".format(name, 28))"
   ]
  },
  {
   "cell_type": "code",
   "execution_count": 8,
   "metadata": {},
   "outputs": [
    {
     "name": "stdout",
     "output_type": "stream",
     "text": [
      "Hello John\n"
     ]
    }
   ],
   "source": [
    "#using the new f strings - compatible with python 3.6 and up\n",
    "name = \"John\"\n",
    "print(f\"Hello {name}\")"
   ]
  },
  {
   "cell_type": "code",
   "execution_count": 9,
   "metadata": {},
   "outputs": [
    {
     "name": "stdout",
     "output_type": "stream",
     "text": [
      "Hello John, you are 28 years old!\n"
     ]
    }
   ],
   "source": [
    "name = \"John\"\n",
    "age = 28\n",
    "print(f\"Hello {name}, you are {age} years old!\")"
   ]
  },
  {
   "cell_type": "code",
   "execution_count": 10,
   "metadata": {},
   "outputs": [
    {
     "name": "stdout",
     "output_type": "stream",
     "text": [
      "hello, John\n"
     ]
    }
   ],
   "source": [
    "print(\"hello, %s\" % name)"
   ]
  },
  {
   "cell_type": "code",
   "execution_count": 11,
   "metadata": {},
   "outputs": [
    {
     "name": "stdout",
     "output_type": "stream",
     "text": [
      "Hello, John Smith\n"
     ]
    }
   ],
   "source": [
    "#python 2 multiple variable formatting\n",
    "print(\"Hello, %s %s\" % (first_name, last_name)) #surround the variables in parenthesis"
   ]
  },
  {
   "cell_type": "code",
   "execution_count": 13,
   "metadata": {},
   "outputs": [
    {
     "name": "stdout",
     "output_type": "stream",
     "text": [
      "h\n",
      "e\n",
      "o\n"
     ]
    }
   ],
   "source": [
    "#using indexes to print each element. Python indices start at 0\n",
    "word = \"hello\" \n",
    "print(word[0]) #will output the first index in the string\n",
    "print(word[1]) #will output the second index in the string\n",
    "print(word[-1]) #will output the last index in the string"
   ]
  },
  {
   "cell_type": "code",
   "execution_count": 14,
   "metadata": {},
   "outputs": [
    {
     "name": "stdout",
     "output_type": "stream",
     "text": [
      "he\n"
     ]
    }
   ],
   "source": [
    "print(word[0:2]) #will output 'he' - but why? When index 2 = the third letter? the 2 is the stopping, so maybe it stops BEFORE the stop?"
   ]
  },
  {
   "cell_type": "code",
   "execution_count": 15,
   "metadata": {},
   "outputs": [
    {
     "name": "stdout",
     "output_type": "stream",
     "text": [
      "hlo\n"
     ]
    }
   ],
   "source": [
    "print(word[0:5:2]) #0:5 is the start:stop, then 2 is the step, meaning it will print every 2nd index in the start:stop range"
   ]
  },
  {
   "cell_type": "code",
   "execution_count": 19,
   "metadata": {},
   "outputs": [
    {
     "name": "stdout",
     "output_type": "stream",
     "text": [
      "23 4.5 False John\n"
     ]
    }
   ],
   "source": [
    "#Wednesday exercise 1: variable injection\n",
    "int_1 = 23\n",
    "float_1 = 4.5\n",
    "Bool = False\n",
    "name = \"John\"\n",
    "print(f\"{int_1} {float_1} {Bool} {name}\")"
   ]
  },
  {
   "cell_type": "code",
   "execution_count": 25,
   "metadata": {},
   "outputs": [
    {
     "name": "stdout",
     "output_type": "stream",
     "text": [
      "23 4.5 False John\n"
     ]
    }
   ],
   "source": [
    "#I think the above was meant to be much simplier - something like below\n",
    "string = \"23\" + \" \" + \"4.5\" + \" \" + \"False\" + \" \" + \"John\"\n",
    "print(string)"
   ]
  },
  {
   "cell_type": "code",
   "execution_count": 21,
   "metadata": {},
   "outputs": [
    {
     "name": "stdout",
     "output_type": "stream",
     "text": [
      "Roisin's favourite sport is hockey\n",
      "Roisin is working on python programming!\n"
     ]
    }
   ],
   "source": [
    "#Wednesday exercise 2: Fill in the blanks\n",
    "name = \"Roisin\" \n",
    "fav_sport = \"hockey\" \n",
    "program = \"python\"\n",
    "print(f\"{name}'s favourite sport is {fav_sport}\")\n",
    "print(f\"{name} is working on {program} programming!\")"
   ]
  },
  {
   "cell_type": "markdown",
   "metadata": {},
   "source": [
    "# Thursday: string manipulation"
   ]
  },
  {
   "cell_type": "code",
   "execution_count": 31,
   "metadata": {},
   "outputs": [
    {
     "name": "stdout",
     "output_type": "stream",
     "text": [
      "John Smith\n",
      "john smith\n",
      "JOHN SMITH\n"
     ]
    }
   ],
   "source": [
    "#using the title method to capitalise a string\n",
    "name = \"john smith\"\n",
    "name2 = \"John SmItH\"\n",
    "print(name.title( ))\n",
    "print(name2.lower())\n",
    "print(name2.upper())\n"
   ]
  },
  {
   "cell_type": "code",
   "execution_count": 32,
   "metadata": {},
   "outputs": [
    {
     "name": "stdout",
     "output_type": "stream",
     "text": [
      "Hello there.\n"
     ]
    }
   ],
   "source": [
    "#replacing an exclamation point with a period\n",
    "words = \"Hello there!\"\n",
    "print(words.replace(\"!\", \".\"))"
   ]
  },
  {
   "cell_type": "code",
   "execution_count": 33,
   "metadata": {},
   "outputs": [
    {
     "name": "stdout",
     "output_type": "stream",
     "text": [
      "5\n"
     ]
    }
   ],
   "source": [
    "#finding the starting index of our searched term\n",
    "s = \"Look over that way\"\n",
    "print(s.find(\"over\")) #returns the starting index of \"over\" - important to access specific index on a search"
   ]
  },
  {
   "cell_type": "code",
   "execution_count": 35,
   "metadata": {},
   "outputs": [
    {
     "name": "stdout",
     "output_type": "stream",
     "text": [
      "john\n"
     ]
    }
   ],
   "source": [
    "#removing white space with strip \n",
    "name = \" john \"\n",
    "print(name.strip( ))"
   ]
  },
  {
   "cell_type": "code",
   "execution_count": 36,
   "metadata": {},
   "outputs": [
    {
     "name": "stdout",
     "output_type": "stream",
     "text": [
      "john \n",
      " john\n"
     ]
    }
   ],
   "source": [
    "name = \" john \"\n",
    "print(name.lstrip())\n",
    "print(name.rstrip())"
   ]
  },
  {
   "cell_type": "code",
   "execution_count": 37,
   "metadata": {},
   "outputs": [
    {
     "name": "stdout",
     "output_type": "stream",
     "text": [
      "['These', 'words', 'are', 'separated', 'by', 'spaces']\n"
     ]
    }
   ],
   "source": [
    "#converting a string into a list of words\n",
    "s = \"These words are separated by spaces\"\n",
    "print(s.split(\" \"))"
   ]
  },
  {
   "cell_type": "code",
   "execution_count": 38,
   "metadata": {},
   "outputs": [
    {
     "name": "stdout",
     "output_type": "stream",
     "text": [
      "UPPERCASE\n"
     ]
    }
   ],
   "source": [
    "#Thursday exercise 1: Uppercasing\n",
    "word = \"uppercase\"\n",
    "print(word.upper())"
   ]
  },
  {
   "cell_type": "code",
   "execution_count": 45,
   "metadata": {},
   "outputs": [
    {
     "name": "stdout",
     "output_type": "stream",
     "text": [
      "John Smith\n",
      "John Smith\n"
     ]
    }
   ],
   "source": [
    "#Thursday exercise 2: strip symbols\n",
    "name = \"$$John Smith\"\n",
    "print(name.lstrip(\"$\"))\n",
    "print(name.strip(\"$\"))"
   ]
  },
  {
   "cell_type": "code",
   "execution_count": 46,
   "metadata": {},
   "outputs": [
    {
     "name": "stdout",
     "output_type": "stream",
     "text": [
      "Help on built-in function strip:\n",
      "\n",
      "strip(chars=None, /) method of builtins.str instance\n",
      "    Return a copy of the string with leading and trailing whitespace removed.\n",
      "    \n",
      "    If chars is given and not None, remove characters in chars instead.\n",
      "\n"
     ]
    }
   ],
   "source": [
    "help(\" \".strip)"
   ]
  },
  {
   "cell_type": "markdown",
   "metadata": {},
   "source": [
    "# Friday: Creating a receipt printing program"
   ]
  },
  {
   "cell_type": "code",
   "execution_count": 65,
   "metadata": {},
   "outputs": [
    {
     "name": "stdout",
     "output_type": "stream",
     "text": [
      "**************************************************\n",
      "\t\tCoding Temple, Inc.\n",
      "\t\t283 Franklin St.\n",
      "\t\tBoston, MA\n",
      "==================================================\n",
      "\tProduct Name\tProduct Price\n",
      "\tBooks\t\t$49.95\n",
      "\tComputer\t$579.99\n",
      "\tMonitor\t\t$124.89\n",
      "==================================================\n",
      "\t\t\tTotal\n",
      "\t\t\t$754.83\n",
      "==================================================\n",
      "\n",
      "\tThanks for shopping with us today!\n",
      "\n",
      "**************************************************\n"
     ]
    }
   ],
   "source": [
    "#create a product and price for three items\n",
    "p1_name, p1_price = \"Books\", 49.95\n",
    "p2_name, p2_price = \"Computer\", 579.99\n",
    "p3_name, p3_price = \"Monitor\", 124.89\n",
    "\n",
    "#Create a company name and information \n",
    "company_name = \"coding temple, inc.\"\n",
    "company_address = \"283 Franklin St.\"\n",
    "company_city = \"Boston, MA\"\n",
    "\n",
    "#declare ending message\n",
    "message = \"Thanks for shopping with us today!\"\n",
    "\n",
    "#create a top border\n",
    "print(\"*\"*50)\n",
    "\n",
    "#print company information first, using format \"\\t\\t\" means to centre the text in the output\n",
    "print(\"\\t\\t{}\".format(company_name.title()))\n",
    "print(\"\\t\\t{}\".format(company_address))\n",
    "print(\"\\t\\t{}\".format(company_city))\n",
    "\n",
    "#print a line between sections\n",
    "print(\"=\"*50)\n",
    "\n",
    "#print out header for section of items\n",
    "print(\"\\tProduct Name\\tProduct Price\")\n",
    "\n",
    "#create a print statement for each product\n",
    "print(\"\\t{}\\t\\t${}\".format(p1_name.title(), p1_price))\n",
    "print(\"\\t{}\\t${}\".format(p2_name.title(), p2_price)) #for some reason had to do a single \\t here otherwise was out of line\n",
    "print(f\"\\t{p3_name.title()}\\t\\t${p3_price}\") #just wanted to attempt the other format option\n",
    "\n",
    "#print a line between sections\n",
    "print(\"=\"*50)\n",
    "\n",
    "#print out a header for the total\n",
    "print(\"\\t\\t\\tTotal\")\n",
    "\n",
    "#calculate the total price and print out\n",
    "total = p1_price + p2_price + p3_price\n",
    "print(f\"\\t\\t\\t${total}\")\n",
    "\n",
    "#print a line between sections\n",
    "print(\"=\"*50)\n",
    "\n",
    "#output thank you message\n",
    "print(\"\\n\\t{}\\n\".format(message))\n",
    "\n",
    "#create a bottom border\n",
    "print(\"*\"*50)"
   ]
  },
  {
   "cell_type": "code",
   "execution_count": 99,
   "metadata": {},
   "outputs": [
    {
     "name": "stdout",
     "output_type": "stream",
     "text": [
      "**************************************************\n",
      "*\t\tCoding Temple, Inc.\t\t *\n",
      "*\t\t283 Franklin St.\t\t *\n",
      "*\t\tBoston, MA\t\t\t *\n",
      "* ============================================== *\n",
      "*\tProduct Name\tProduct Price\t\t *\n",
      "*\tBooks\t\t$49.95\t\t\t *\n",
      "*\tComputer\t$579.99\t\t\t *\n",
      "*\tMonitor\t\t$124.89\t\t\t *\n",
      "* ============================================== *\n",
      "*\t\t\tTotal\t\t\t *\n",
      "*\t\t\t$754.83\t\t\t *\n",
      "* ============================================== *\n",
      "*                                                *\n",
      "*\tThanks for shopping with us today!\t *\n",
      "*                                                *\n",
      "**************************************************\n"
     ]
    }
   ],
   "source": [
    "#Weekly challenge 1: add star border on the sides of receipt\n",
    "#create a product and price for three items\n",
    "p1_name, p1_price = \"Books\", 49.95\n",
    "p2_name, p2_price = \"Computer\", 579.99\n",
    "p3_name, p3_price = \"Monitor\", 124.89\n",
    "\n",
    "#Create a company name and information \n",
    "company_name = \"coding temple, inc.\"\n",
    "company_address = \"283 Franklin St.\"\n",
    "company_city = \"Boston, MA\"\n",
    "\n",
    "#declare ending message\n",
    "message = \"Thanks for shopping with us today!\"\n",
    "\n",
    "#create a top border\n",
    "print(\"*\"*50)\n",
    "\n",
    "#print company information first, using format \"\\t\\t\" means to centre the text in the output\n",
    "print(\"*\\t\\t{}\\t\\t *\".format(company_name.title()))\n",
    "print(\"*\\t\\t{}\\t\\t *\".format(company_address))\n",
    "print(\"*\\t\\t{}\\t\\t\\t *\".format(company_city))\n",
    "\n",
    "#print a line between sections\n",
    "print(\"*\",\"=\"*46, \"*\")\n",
    "\n",
    "#print out header for section of items\n",
    "print(\"*\\tProduct Name\\tProduct Price\\t\\t *\")\n",
    "\n",
    "#create a print statement for each product\n",
    "print(\"*\\t{}\\t\\t${}\\t\\t\\t *\".format(p1_name.title(), p1_price))\n",
    "print(\"*\\t{}\\t${}\\t\\t\\t *\".format(p2_name.title(), p2_price)) #for some reason had to do a single \\t here otherwise was out of line\n",
    "print(f\"*\\t{p3_name.title()}\\t\\t${p3_price}\\t\\t\\t *\") #just wanted to attempt the other format option\n",
    "\n",
    "#print a line between sections\n",
    "print(\"*\",\"=\"*46, \"*\")\n",
    "\n",
    "#print out a header for the total\n",
    "print(\"*\\t\\t\\tTotal\\t\\t\\t *\")\n",
    "\n",
    "#calculate the total price and print out\n",
    "total = p1_price + p2_price + p3_price\n",
    "print(f\"*\\t\\t\\t${total}\\t\\t\\t *\")\n",
    "\n",
    "#print a line between sections\n",
    "print(\"*\",\"=\"*46, \"*\")\n",
    "#print(\"*\", \" \"*46, \"*\")\n",
    "#output thank you message\n",
    "print(\"*\", \" \"*46,f\"*\\n*\\t{message}\\t *\\n*\", \" \"*46, \"*\")\n",
    "\n",
    "#create a bottom border\n",
    "print(\"*\"*50)"
   ]
  }
 ],
 "metadata": {
  "kernelspec": {
   "display_name": "Python 3",
   "language": "python",
   "name": "python3"
  },
  "language_info": {
   "codemirror_mode": {
    "name": "ipython",
    "version": 3
   },
   "file_extension": ".py",
   "mimetype": "text/x-python",
   "name": "python",
   "nbconvert_exporter": "python",
   "pygments_lexer": "ipython3",
   "version": "3.10.5"
  }
 },
 "nbformat": 4,
 "nbformat_minor": 2
}
