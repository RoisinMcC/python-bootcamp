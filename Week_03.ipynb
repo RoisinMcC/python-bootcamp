{
 "cells": [
  {
   "cell_type": "markdown",
   "metadata": {},
   "source": [
    "# Week 3 - User input and conditionals"
   ]
  },
  {
   "cell_type": "markdown",
   "metadata": {},
   "source": [
    "# Monday: User input and type converting"
   ]
  },
  {
   "cell_type": "code",
   "execution_count": 1,
   "metadata": {},
   "outputs": [
    {
     "name": "stdout",
     "output_type": "stream",
     "text": [
      "Roisin McCague\n"
     ]
    }
   ],
   "source": [
    "# accepting and outputting user input. Information entered is taken as a string, no matter what the input\n",
    "print(input(\"what is your name?\"))"
   ]
  },
  {
   "cell_type": "code",
   "execution_count": 2,
   "metadata": {},
   "outputs": [
    {
     "name": "stdout",
     "output_type": "stream",
     "text": [
      "Hello Roisin McCague!\n"
     ]
    }
   ],
   "source": [
    "#Saving what the user inputs\n",
    "ans = input(\"What is your name?\")\n",
    "print(\"Hello {}!\".format(ans))"
   ]
  },
  {
   "cell_type": "code",
   "execution_count": 3,
   "metadata": {},
   "outputs": [
    {
     "name": "stdout",
     "output_type": "stream",
     "text": [
      "<class 'int'>\n"
     ]
    }
   ],
   "source": [
    "#how to check the data type of a variable\n",
    "num = 5\n",
    "print(type(num))"
   ]
  },
  {
   "cell_type": "code",
   "execution_count": 6,
   "metadata": {},
   "outputs": [
    {
     "name": "stdout",
     "output_type": "stream",
     "text": [
      "<class 'int'>\n"
     ]
    }
   ],
   "source": [
    "#converting a variable from one data type to another\n",
    "num = \"9\" \n",
    "num = int(num) #re-declaring num to store an integer\n",
    "print(type(num)) #checking type to make sure conversion worked"
   ]
  },
  {
   "cell_type": "code",
   "execution_count": 7,
   "metadata": {},
   "outputs": [
    {
     "name": "stdout",
     "output_type": "stream",
     "text": [
      "<class 'str'>\n",
      "100 + 5 = 105\n"
     ]
    }
   ],
   "source": [
    "#working with user input to perform calculations\n",
    "ans = input(\"Type a number to add: \")\n",
    "print(type(ans)) #default type is string, must convert\n",
    "result = 100 + int(ans)\n",
    "print(\"100 + {} = {}\".format(ans, result))"
   ]
  },
  {
   "cell_type": "code",
   "execution_count": 10,
   "metadata": {},
   "outputs": [
    {
     "name": "stdout",
     "output_type": "stream",
     "text": [
      "you did not put in a valid number!?\n",
      "The program did not break!\n"
     ]
    }
   ],
   "source": [
    "#using the try and except blocks, use tab to indent where necessary:\n",
    "try:\n",
    "    ans = float(input(\"type a number to add: \"))\n",
    "    print(\"100 + {} = {}\".format(ans, 100+ans))\n",
    "except: \n",
    "    print(\"you did not put in a valid number!?\")\n",
    "#without the try/except print statment would not get hit if error occurs \n",
    "print(\"The program did not break!\")"
   ]
  },
  {
   "cell_type": "code",
   "execution_count": 14,
   "metadata": {},
   "outputs": [
    {
     "name": "stdout",
     "output_type": "stream",
     "text": [
      "<class 'str'>\n",
      "<class 'bool'>\n"
     ]
    }
   ],
   "source": [
    "#monday exercise 1; converting\n",
    "word = \"True\"\n",
    "print(type(word))\n",
    "word = bool(word)\n",
    "print(type(word))"
   ]
  },
  {
   "cell_type": "code",
   "execution_count": 16,
   "metadata": {},
   "outputs": [
    {
     "name": "stdout",
     "output_type": "stream",
     "text": [
      "One or more input is not a valid number!\n",
      "the program did not break!\n"
     ]
    }
   ],
   "source": [
    "#Monday exercise 2; sum of inputs\n",
    "try:\n",
    "    num1 = int(input(\"enter first number\"))\n",
    "    num2 = int(input(\"enter second number\"))\n",
    "    ans = num1 + num2\n",
    "    print(\"{} + {} = {}\".format(num1, num2, ans))\n",
    "except: \n",
    "    print(\"One or more input is not a valid number!\")\n",
    "print(\"the program did not break!\")"
   ]
  },
  {
   "cell_type": "code",
   "execution_count": 18,
   "metadata": {},
   "outputs": [
    {
     "name": "stdout",
     "output_type": "stream",
     "text": [
      "2018 Blue Volkswagen Golf\n"
     ]
    }
   ],
   "source": [
    "#Monday exercise 3; Car Information\n",
    "year = input(\"What year was the car produced?\")\n",
    "make = input(\"What make is the car?\")\n",
    "model = input(\"What model is the car?\")\n",
    "col = input(\"What colour is the car?\")\n",
    "print(\"{} {} {} {}\".format(year, col, make, model))"
   ]
  },
  {
   "cell_type": "markdown",
   "metadata": {},
   "source": [
    "# Tuesday - If statements"
   ]
  }
 ],
 "metadata": {
  "kernelspec": {
   "display_name": "Python 3",
   "language": "python",
   "name": "python3"
  },
  "language_info": {
   "codemirror_mode": {
    "name": "ipython",
    "version": 3
   },
   "file_extension": ".py",
   "mimetype": "text/x-python",
   "name": "python",
   "nbconvert_exporter": "python",
   "pygments_lexer": "ipython3",
   "version": "3.10.5"
  }
 },
 "nbformat": 4,
 "nbformat_minor": 2
}
