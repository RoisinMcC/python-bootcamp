{
 "cells": [
  {
   "cell_type": "markdown",
   "metadata": {},
   "source": [
    "# Week 3 - User input and conditionals"
   ]
  },
  {
   "cell_type": "markdown",
   "metadata": {},
   "source": [
    "# Monday: User input and type converting"
   ]
  },
  {
   "cell_type": "code",
   "execution_count": 1,
   "metadata": {},
   "outputs": [
    {
     "name": "stdout",
     "output_type": "stream",
     "text": [
      "Roisin McCague\n"
     ]
    }
   ],
   "source": [
    "# accepting and outputting user input. Information entered is taken as a string, no matter what the input\n",
    "print(input(\"what is your name?\"))"
   ]
  },
  {
   "cell_type": "code",
   "execution_count": 2,
   "metadata": {},
   "outputs": [
    {
     "name": "stdout",
     "output_type": "stream",
     "text": [
      "Hello Roisin McCague!\n"
     ]
    }
   ],
   "source": [
    "#Saving what the user inputs\n",
    "ans = input(\"What is your name?\")\n",
    "print(\"Hello {}!\".format(ans))"
   ]
  },
  {
   "cell_type": "code",
   "execution_count": 2,
   "metadata": {},
   "outputs": [
    {
     "name": "stdout",
     "output_type": "stream",
     "text": [
      "2 is a <class 'int'> variable\n"
     ]
    }
   ],
   "source": [
    "#Write a block of code that asks for an input, the input should be a number, and then it should output the number and what type of variable it is\n",
    "word = int(input(\"Enter a number:\"))\n",
    "print(\"{} is a {} variable\".format(word, type(word)))"
   ]
  },
  {
   "cell_type": "code",
   "execution_count": 3,
   "metadata": {},
   "outputs": [
    {
     "name": "stdout",
     "output_type": "stream",
     "text": [
      "<class 'int'>\n"
     ]
    }
   ],
   "source": [
    "#how to check the data type of a variable\n",
    "num = 5\n",
    "print(type(num))"
   ]
  },
  {
   "cell_type": "code",
   "execution_count": 6,
   "metadata": {},
   "outputs": [
    {
     "name": "stdout",
     "output_type": "stream",
     "text": [
      "<class 'int'>\n"
     ]
    }
   ],
   "source": [
    "#converting a variable from one data type to another\n",
    "num = \"9\" \n",
    "num = int(num) #re-declaring num to store an integer\n",
    "print(type(num)) #checking type to make sure conversion worked"
   ]
  },
  {
   "cell_type": "code",
   "execution_count": 7,
   "metadata": {},
   "outputs": [
    {
     "name": "stdout",
     "output_type": "stream",
     "text": [
      "<class 'str'>\n",
      "100 + 5 = 105\n"
     ]
    }
   ],
   "source": [
    "#working with user input to perform calculations\n",
    "ans = input(\"Type a number to add: \")\n",
    "print(type(ans)) #default type is string, must convert\n",
    "result = 100 + int(ans)\n",
    "print(\"100 + {} = {}\".format(ans, result))"
   ]
  },
  {
   "cell_type": "code",
   "execution_count": 10,
   "metadata": {},
   "outputs": [
    {
     "name": "stdout",
     "output_type": "stream",
     "text": [
      "you did not put in a valid number!?\n",
      "The program did not break!\n"
     ]
    }
   ],
   "source": [
    "#using the try and except blocks, use tab to indent where necessary:\n",
    "try:\n",
    "    ans = float(input(\"type a number to add: \"))\n",
    "    print(\"100 + {} = {}\".format(ans, 100+ans))\n",
    "except: \n",
    "    print(\"you did not put in a valid number!?\")\n",
    "#without the try/except print statment would not get hit if error occurs \n",
    "print(\"The program did not break!\")"
   ]
  },
  {
   "cell_type": "code",
   "execution_count": 14,
   "metadata": {},
   "outputs": [
    {
     "name": "stdout",
     "output_type": "stream",
     "text": [
      "<class 'str'>\n",
      "<class 'bool'>\n"
     ]
    }
   ],
   "source": [
    "#monday exercise 1; converting\n",
    "word = \"True\"\n",
    "print(type(word))\n",
    "word = bool(word)\n",
    "print(type(word))"
   ]
  },
  {
   "cell_type": "code",
   "execution_count": 16,
   "metadata": {},
   "outputs": [
    {
     "name": "stdout",
     "output_type": "stream",
     "text": [
      "One or more input is not a valid number!\n",
      "the program did not break!\n"
     ]
    }
   ],
   "source": [
    "#Monday exercise 2; sum of inputs\n",
    "try:\n",
    "    num1 = int(input(\"enter first number\"))\n",
    "    num2 = int(input(\"enter second number\"))\n",
    "    ans = num1 + num2\n",
    "    print(\"{} + {} = {}\".format(num1, num2, ans))\n",
    "except: \n",
    "    print(\"One or more input is not a valid number!\")\n",
    "print(\"the program did not break!\")"
   ]
  },
  {
   "cell_type": "code",
   "execution_count": 18,
   "metadata": {},
   "outputs": [
    {
     "name": "stdout",
     "output_type": "stream",
     "text": [
      "2018 Blue Volkswagen Golf\n"
     ]
    }
   ],
   "source": [
    "#Monday exercise 3; Car Information\n",
    "year = input(\"What year was the car produced?\")\n",
    "make = input(\"What make is the car?\")\n",
    "model = input(\"What model is the car?\")\n",
    "col = input(\"What colour is the car?\")\n",
    "print(\"{} {} {} {}\".format(year, col, make, model))"
   ]
  },
  {
   "cell_type": "markdown",
   "metadata": {},
   "source": [
    "# Tuesday - If statements"
   ]
  },
  {
   "cell_type": "code",
   "execution_count": 1,
   "metadata": {},
   "outputs": [
    {
     "name": "stdout",
     "output_type": "stream",
     "text": [
      "x is less than y\n"
     ]
    }
   ],
   "source": [
    "#Using an if statement to only run code if the condition is met\n",
    "x, y = 5, 10\n",
    "if x < y:\n",
    "    print(\"x is less than y\")"
   ]
  },
  {
   "cell_type": "code",
   "execution_count": 5,
   "metadata": {},
   "outputs": [
    {
     "name": "stdout",
     "output_type": "stream",
     "text": [
      "You got it right!\n"
     ]
    }
   ],
   "source": [
    "#checking user input using if statements\n",
    "ans = int(input(\"What is 5 + 5?\"))\n",
    "if ans == 10:\n",
    "    print(\"You got it right!\")"
   ]
  },
  {
   "cell_type": "code",
   "execution_count": 6,
   "metadata": {},
   "outputs": [
    {
     "name": "stdout",
     "output_type": "stream",
     "text": [
      "Both statements are true\n"
     ]
    }
   ],
   "source": [
    "#using the keyword 'and' in an 'if statement'\n",
    "x, y, z = 5, 10, 5\n",
    "if x < y and x == z:\n",
    "    print(\"Both statements are true\")"
   ]
  },
  {
   "cell_type": "code",
   "execution_count": 7,
   "metadata": {},
   "outputs": [
    {
     "name": "stdout",
     "output_type": "stream",
     "text": [
      "One or both statements were true\n"
     ]
    }
   ],
   "source": [
    "#using the keyword 'or' in an 'if statements'\n",
    "x, y, z = 5, 10, 5\n",
    "if x < y or x != x:\n",
    "    print(\"One or both statements were true\")"
   ]
  },
  {
   "cell_type": "code",
   "execution_count": 8,
   "metadata": {},
   "outputs": [
    {
     "name": "stdout",
     "output_type": "stream",
     "text": [
      "Flag is false\n"
     ]
    }
   ],
   "source": [
    "#using the keyword 'not' within an 'if statement' \n",
    "flag = False\n",
    "if not flag:    #same as saying if not true\n",
    "    print(\"Flag is false\")"
   ]
  },
  {
   "cell_type": "code",
   "execution_count": 10,
   "metadata": {},
   "outputs": [
    {
     "name": "stdout",
     "output_type": "stream",
     "text": [
      "baseball contains the character b\n"
     ]
    }
   ],
   "source": [
    "#using keyword 'in' within an 'if statement' - in is a membership operator\n",
    "word = \"baseball\"\n",
    "if \"b\" in word:\n",
    "    print(\"{} contains the character b\".format(word))"
   ]
  },
  {
   "cell_type": "code",
   "execution_count": 11,
   "metadata": {},
   "outputs": [
    {
     "name": "stdout",
     "output_type": "stream",
     "text": [
      "Baseball does not contain the character x\n"
     ]
    }
   ],
   "source": [
    "#using the keyword 'not in' within an 'if statement' \n",
    "word = \"Baseball\"\n",
    "if \"x\" not in word: \n",
    "    print(\"{} does not contain the character x\".format(word))"
   ]
  },
  {
   "cell_type": "code",
   "execution_count": 14,
   "metadata": {},
   "outputs": [
    {
     "name": "stdout",
     "output_type": "stream",
     "text": [
      "wording contains ing\n"
     ]
    }
   ],
   "source": [
    "#Tuesday exercise 1; checkin inclusion \n",
    "word = input(\"Enter a word:\")\n",
    "if \"es\" in word:\n",
    "    print(\"{} does contain characters es\".format(word))\n",
    "if \"ing\" in word:\n",
    "    print(\"{} contains ing\".format(word))"
   ]
  },
  {
   "cell_type": "code",
   "execution_count": 44,
   "metadata": {},
   "outputs": [
    {
     "name": "stdout",
     "output_type": "stream",
     "text": [
      "The words are different\n"
     ]
    }
   ],
   "source": [
    "#Tuesday exercise 3: checking equality\n",
    "word1 = input(\"Enter a word\")\n",
    "word2 = input(\"Enter another word\")\n",
    "if word1.lower == word2.lower:\n",
    "    print(\"both words are the are the same\")\n",
    "if word1.lower != word2.lower:\n",
    "    print(\"The words are different\")"
   ]
  },
  {
   "cell_type": "code",
   "execution_count": 51,
   "metadata": {},
   "outputs": [
    {
     "name": "stdout",
     "output_type": "stream",
     "text": [
      "10 squared = 100\n"
     ]
    }
   ],
   "source": [
    "#Tuesday exercise 4: returning exponents\n",
    "num = input(\"Enter a number:\")\n",
    "num = int(num)\n",
    "if num <= 10:\n",
    "    result = num**2\n",
    "    print(\"{} squared = {}\".format(num, result))\n",
    "if num > 10:\n",
    "    print(\"Number is greater than 10\")"
   ]
  },
  {
   "cell_type": "markdown",
   "metadata": {},
   "source": [
    "# Wednesday: Elif statements"
   ]
  },
  {
   "cell_type": "code",
   "execution_count": 15,
   "metadata": {},
   "outputs": [
    {
     "name": "stdout",
     "output_type": "stream",
     "text": [
      "x is less\n"
     ]
    }
   ],
   "source": [
    "\"\"\"\n",
    "Elif statements also known as 'else if statements'\n",
    "Elif statements need to be associated with an 'if statement'\n",
    "python works in top to bottom order, so it checks the first if statement, \n",
    "if that is false, it continues to the first elid statement\n",
    "\"\"\"\n",
    "#using the elif conditional statement \n",
    "x, y = 5, 10\n",
    "if x > y:\n",
    "    print(\"x is greater\")\n",
    "elif x < y:\n",
    "    print(\"x is less\")\n"
   ]
  },
  {
   "cell_type": "code",
   "execution_count": 16,
   "metadata": {},
   "outputs": [
    {
     "name": "stdout",
     "output_type": "stream",
     "text": [
      "equal\n"
     ]
    }
   ],
   "source": [
    "#checking more than one elif conditional statement\n",
    "x, y = 5, 10\n",
    "if x > y:\n",
    "    print(\"x is greater\")\n",
    "elif (x+10) < y:    #checkin if 15 is less than 10\n",
    "    print(\"x is less\")\n",
    "elif (x+5) == y:    #checking if 10 is equal to 10\n",
    "    print(\"equal\")"
   ]
  },
  {
   "cell_type": "code",
   "execution_count": 17,
   "metadata": {},
   "outputs": [
    {
     "name": "stdout",
     "output_type": "stream",
     "text": [
      "x is equal to z\n"
     ]
    }
   ],
   "source": [
    "#writing multiple conditionals wihtin each other - multiple block levels\n",
    "x, y, z = 5, 10, 5\n",
    "if x > y:\n",
    "    print(\"greater\")\n",
    "elif x <= y:\n",
    "    if x == z:\n",
    "        print(\"x is equal to z\")    #resulting output\n",
    "    elif x != z:\n",
    "        print(\"x is not equal to z\")    #wont get hit"
   ]
  },
  {
   "cell_type": "code",
   "execution_count": 18,
   "metadata": {},
   "outputs": [
    {
     "name": "stdout",
     "output_type": "stream",
     "text": [
      "x is less\n",
      "x is equal\n"
     ]
    }
   ],
   "source": [
    "#tesitng output of two if statements in a row that are both true\n",
    "x, y, z = 5, 10, 5\n",
    "if x < y:\n",
    "    print(\"x is less\")\n",
    "if x ==z:\n",
    "    print(\"x is equal\")"
   ]
  },
  {
   "cell_type": "code",
   "execution_count": 19,
   "metadata": {},
   "outputs": [
    {
     "name": "stdout",
     "output_type": "stream",
     "text": [
      "x is less\n"
     ]
    }
   ],
   "source": [
    "#tesitng output of an if an elif statement that are both true\n",
    "x, y, z = 5, 10, 5\n",
    "if x < y:\n",
    "    print(\"x is less\")\n",
    "elif x ==z:\n",
    "    print(\"x is equal to z\")"
   ]
  },
  {
   "cell_type": "code",
   "execution_count": 22,
   "metadata": {},
   "outputs": [
    {
     "name": "stdout",
     "output_type": "stream",
     "text": [
      "Number is less than 100\n"
     ]
    }
   ],
   "source": [
    "#Wednesday exercise 1 \n",
    "num = input(\"Input a number\")\n",
    "num = int(num)\n",
    "if num > 100:\n",
    "    print(\"Number is greater than 100\")\n",
    "elif num < 100:\n",
    "    print(\"Number is less than 100\")"
   ]
  },
  {
   "cell_type": "code",
   "execution_count": 23,
   "metadata": {},
   "outputs": [
    {
     "name": "stdout",
     "output_type": "stream",
     "text": [
      "lower\n"
     ]
    }
   ],
   "source": [
    "#wednesday exercise 2\n",
    "x, y = 5, 10\n",
    "if x > y: \n",
    "    print(\"greater\")\n",
    "elif x < y:\n",
    "    print(\"lower\")"
   ]
  },
  {
   "cell_type": "markdown",
   "metadata": {},
   "source": [
    "# Thursday - Else statements"
   ]
  },
  {
   "cell_type": "code",
   "execution_count": null,
   "metadata": {},
   "outputs": [],
   "source": [
    "\"\"\"\n",
    "Else statements are the end all be all of the if statements\n",
    "if you can't make a condition for every decision you want to make, \n",
    "you can use an else statement - it will cover all other possibilites \n",
    "\"\"\""
   ]
  },
  {
   "cell_type": "code",
   "execution_count": 25,
   "metadata": {},
   "outputs": [
    {
     "name": "stdout",
     "output_type": "stream",
     "text": [
      "Hello Roisin!\n"
     ]
    }
   ],
   "source": [
    "#using the else statment\n",
    "name = \"Roisin\" \n",
    "if name == \"Jacob\":\n",
    "    print(\"Hello Jacob!\")\n",
    "else:\n",
    "    print(\"Hello {}!\".format(name))"
   ]
  },
  {
   "cell_type": "code",
   "execution_count": 26,
   "metadata": {},
   "outputs": [
    {
     "name": "stdout",
     "output_type": "stream",
     "text": [
      "Name starts with a R\n"
     ]
    }
   ],
   "source": [
    "#writing a full conditional statement with if, elif, else\n",
    "name = \"Roisin\"\n",
    "if name[0] == \"A\":\n",
    "    print(\"Name starts with an A\")\n",
    "elif name[0] == \"B\":\n",
    "    print(\"Name starts with a B\")\n",
    "elif name[0] == \"J\":\n",
    "    print(\"Name starts with a J\")\n",
    "else:\n",
    "    print(\"Name starts with a {}\".format(name[0]))"
   ]
  },
  {
   "cell_type": "code",
   "execution_count": 28,
   "metadata": {},
   "outputs": [
    {
     "name": "stdout",
     "output_type": "stream",
     "text": [
      "hello John\n"
     ]
    }
   ],
   "source": [
    "#Thursday exercise 1\n",
    "name = \"John\"\n",
    "if name == \"Jack\":\n",
    "    print(\"hello Jack\")\n",
    "else:\n",
    "    print(\"hello John\")"
   ]
  },
  {
   "cell_type": "code",
   "execution_count": 32,
   "metadata": {},
   "outputs": [
    {
     "name": "stdout",
     "output_type": "stream",
     "text": [
      "Good evening\n"
     ]
    }
   ],
   "source": [
    "#Thursday exercise 2\n",
    "time = input(\"What is the time (in military time)?\")\n",
    "time = int(time)\n",
    "if time < 1200:\n",
    "    print(\"Good Morning\")\n",
    "elif time >= 1200 and time < 1700:\n",
    "    print(\"Good afternoon\")\n",
    "elif time >= 1700:\n",
    "    print(\"Good evening\")\n"
   ]
  },
  {
   "cell_type": "markdown",
   "metadata": {},
   "source": [
    "# Friday - creating a calculator"
   ]
  },
  {
   "cell_type": "code",
   "execution_count": 41,
   "metadata": {},
   "outputs": [
    {
     "name": "stdout",
     "output_type": "stream",
     "text": [
      "You chose multipli.\n",
      "First number: 10\n",
      "Second number: 10\n",
      "Sorry, but 'multipli' is not an option\n"
     ]
    }
   ],
   "source": [
    "#Step 1: ask user for a calculation to be performed\n",
    "operation = input(\"Would you like to add/subtract/multiply/divide?\".lower())\n",
    "print(\"You chose {}.\".format(operation)) #for testing purposes\n",
    "\n",
    "#step 2: ask for numbers, alert order matters for subtracting and dividing\n",
    "if operation == \"subtract\" or operation == \"divide\":\n",
    "    print(\"you chose {}.\".format(operation))\n",
    "    print(\"Please keep in mid that the order of your numbers matter.\")\n",
    "num1 = input(\"what is the first number?\")\n",
    "num2 = input(\"What is the second number?\")\n",
    "print(\"First number: {}\".format(num1))\n",
    "print(\"Second number: {}\".format(num2))\n",
    "\n",
    "#step 3: set up Try/Except for mathematical operation\n",
    "try:\n",
    "    #step 3a: immediately try to convert numbers input to floats\n",
    "    num1, num2 = float(num1), float(num2)\n",
    "    #step 3b: perform operation and print result\n",
    "    if operation == \"add\":\n",
    "        result = num1 + num2\n",
    "        print(\"{} + {} = {}\".format(num1, num2, result))\n",
    "    elif operation == \"subtract\":\n",
    "        result = num1 - num2\n",
    "        print(\"{} - {} = {}\".format(num1, num2, result))\n",
    "    elif operation == \"multiply\":\n",
    "        result = num1*num2\n",
    "        print(\"{} * {} = {}\".format(num1, num2, result))\n",
    "    elif operation == \"divide\":\n",
    "        result = num1/num2\n",
    "        print(\"{} / {} = {}\".format(num1, num2, result))\n",
    "    else:\n",
    "        #else will be hit if they didn't chiose an option correctly\n",
    "        print(\"Sorry, but '{}' is not an option\".format(operation))\n",
    "except:\n",
    "    #Step 3c: print error\n",
    "    print(\"Error: Improper numbers used. Please try again using numerals.\")"
   ]
  },
  {
   "cell_type": "markdown",
   "metadata": {},
   "source": [
    "# Friday Workshop"
   ]
  },
  {
   "cell_type": "code",
   "execution_count": 8,
   "metadata": {},
   "outputs": [
    {
     "name": "stdout",
     "output_type": "stream",
     "text": [
      "The numbers are equal\n"
     ]
    }
   ],
   "source": [
    "#get the user to input two integers, and ensure the variables are read as integers,\n",
    "#then use an if statement to determine which number is biggest and print the biggest\n",
    "#number\n",
    "num1 = int(input(\"Enter first number\"))\n",
    "num2 = int(input(\"Enter the second number\"))\n",
    "if num1 > num2:\n",
    "    print(\"{} is the bigger number\".format(num1))\n",
    "elif num2 > num1:\n",
    "    print(\"{} is the bigger number\".format(num2))\n",
    "elif num1 == num2:\n",
    "    print(\"The numbers are equal\")"
   ]
  }
 ],
 "metadata": {
  "kernelspec": {
   "display_name": "Python 3",
   "language": "python",
   "name": "python3"
  },
  "language_info": {
   "codemirror_mode": {
    "name": "ipython",
    "version": 3
   },
   "file_extension": ".py",
   "mimetype": "text/x-python",
   "name": "python",
   "nbconvert_exporter": "python",
   "pygments_lexer": "ipython3",
   "version": "3.10.5"
  }
 },
 "nbformat": 4,
 "nbformat_minor": 2
}
