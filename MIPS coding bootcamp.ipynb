{
 "cells": [
  {
   "cell_type": "code",
   "execution_count": null,
   "metadata": {},
   "outputs": [],
   "source": []
  },
  {
   "cell_type": "markdown",
   "metadata": {},
   "source": [
    "# Our first bit of python coding"
   ]
  },
  {
   "cell_type": "code",
   "execution_count": 1,
   "metadata": {},
   "outputs": [
    {
     "name": "stdout",
     "output_type": "stream",
     "text": [
      "Hello world\n"
     ]
    }
   ],
   "source": [
    "print(\"Hello world\")"
   ]
  },
  {
   "cell_type": "code",
   "execution_count": 2,
   "metadata": {},
   "outputs": [
    {
     "name": "stdout",
     "output_type": "stream",
     "text": [
      "this is the coding bootcamp\n"
     ]
    }
   ],
   "source": [
    "print(\"this is the coding bootcamp\")"
   ]
  },
  {
   "cell_type": "code",
   "execution_count": 3,
   "metadata": {},
   "outputs": [
    {
     "name": "stdout",
     "output_type": "stream",
     "text": [
      "\n",
      "Nucleotide Percentages:\n",
      "A: 20.51%\n",
      "T: 20.10%\n",
      "G: 18.19%\n",
      "C: 20.24%\n"
     ]
    }
   ],
   "source": [
    "# Function to calculate nucleotide percentages\n",
    "def calculate_nucleotide_percentage(dna_sequence):\n",
    "    # Convert sequence to uppercase to handle case insensitivity\n",
    "    dna_sequence = dna_sequence.upper()\n",
    "    \n",
    "    # Calculate total length of the sequence\n",
    "    total_length = len(dna_sequence)\n",
    "    \n",
    "    # Calculate the count of each nucleotide\n",
    "    count_a = dna_sequence.count('A')\n",
    "    count_t = dna_sequence.count('T')\n",
    "    count_g = dna_sequence.count('G')\n",
    "    count_c = dna_sequence.count('C')\n",
    "    \n",
    "    # Calculate percentage for each nucleotide\n",
    "    percent_a = (count_a / total_length) * 100\n",
    "    percent_t = (count_t / total_length) * 100\n",
    "    percent_g = (count_g / total_length) * 100\n",
    "    percent_c = (count_c / total_length) * 100\n",
    "    \n",
    "    # Return the percentages as a dictionary\n",
    "    return {\n",
    "        'A': percent_a,\n",
    "        'T': percent_t,\n",
    "        'G': percent_g,\n",
    "        'C': percent_c\n",
    "    }\n",
    "\n",
    "# Main part of the script\n",
    "if __name__ == \"__main__\":\n",
    "    # Get the DNA sequence input from the user\n",
    "    dna_sequence = input(\"Enter a DNA sequence: \").strip()\n",
    "\n",
    "    # Calculate the nucleotide percentages\n",
    "    percentages = calculate_nucleotide_percentage(dna_sequence)\n",
    "\n",
    "    # Print the results\n",
    "    print(\"\\nNucleotide Percentages:\")\n",
    "    for nucleotide, percentage in percentages.items():\n",
    "        print(f\"{nucleotide}: {percentage:.2f}%\")\n"
   ]
  },
  {
   "cell_type": "code",
   "execution_count": 4,
   "metadata": {},
   "outputs": [
    {
     "name": "stdout",
     "output_type": "stream",
     "text": [
      "\n",
      "Nucleotide Percentages:\n",
      "A: 25.95%\n",
      "T: 25.42%\n",
      "G: 23.02%\n",
      "C: 25.61%\n"
     ]
    }
   ],
   "source": [
    "# asked chatGPT to update the code to count A, T, G, and exclude C and numbers - this is what is spat out\n",
    "import re\n",
    "\n",
    "# Function to calculate nucleotide percentages\n",
    "def calculate_nucleotide_percentage(dna_sequence):\n",
    "    # Remove spaces and numbers from the input\n",
    "    dna_sequence = re.sub(r'[^ATGC]', '', dna_sequence.upper())\n",
    "\n",
    "    # Calculate total length of the cleaned sequence\n",
    "    total_length = len(dna_sequence)\n",
    "    \n",
    "    if total_length == 0:\n",
    "        print(\"No valid nucleotides found in the input.\")\n",
    "        return\n",
    "    \n",
    "    # Calculate the count of each nucleotide\n",
    "    count_a = dna_sequence.count('A')\n",
    "    count_t = dna_sequence.count('T')\n",
    "    count_g = dna_sequence.count('G')\n",
    "    count_c = dna_sequence.count('C')\n",
    "    \n",
    "    # Calculate percentage for each nucleotide\n",
    "    percent_a = (count_a / total_length) * 100\n",
    "    percent_t = (count_t / total_length) * 100\n",
    "    percent_g = (count_g / total_length) * 100\n",
    "    percent_c = (count_c / total_length) * 100\n",
    "    \n",
    "    # Return the percentages as a dictionary\n",
    "    return {\n",
    "        'A': percent_a,\n",
    "        'T': percent_t,\n",
    "        'G': percent_g,\n",
    "        'C': percent_c\n",
    "    }\n",
    "\n",
    "# Main part of the script\n",
    "if __name__ == \"__main__\":\n",
    "    # Get the DNA sequence input from the user\n",
    "    dna_sequence = input(\"Enter a DNA sequence: \").strip()\n",
    "\n",
    "    # Calculate the nucleotide percentages\n",
    "    percentages = calculate_nucleotide_percentage(dna_sequence)\n",
    "\n",
    "    if percentages:\n",
    "        # Print the results\n",
    "        print(\"\\nNucleotide Percentages:\")\n",
    "        for nucleotide, percentage in percentages.items():\n",
    "            print(f\"{nucleotide}: {percentage:.2f}%\")\n"
   ]
  }
 ],
 "metadata": {
  "kernelspec": {
   "display_name": "Python 3",
   "language": "python",
   "name": "python3"
  },
  "language_info": {
   "codemirror_mode": {
    "name": "ipython",
    "version": 3
   },
   "file_extension": ".py",
   "mimetype": "text/x-python",
   "name": "python",
   "nbconvert_exporter": "python",
   "pygments_lexer": "ipython3",
   "version": "3.0.0"
  }
 },
 "nbformat": 4,
 "nbformat_minor": 2
}
