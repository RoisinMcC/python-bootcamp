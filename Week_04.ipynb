{
 "cells": [
  {
   "cell_type": "markdown",
   "metadata": {},
   "source": [
    "# Week 4 - Lists and Loops"
   ]
  },
  {
   "cell_type": "markdown",
   "metadata": {},
   "source": [
    "# Monday - Lists"
   ]
  },
  {
   "cell_type": "code",
   "execution_count": 2,
   "metadata": {},
   "outputs": [
    {
     "name": "stdout",
     "output_type": "stream",
     "text": [
      "[5, 10, 15.2, 20]\n",
      "10\n",
      "15.2\n"
     ]
    }
   ],
   "source": [
    "\"\"\"\n",
    "Also known as arrays in other languages\n",
    "A list is a data structure in Python that is a mutable, ordered sequence of elements. \n",
    "Mutable = change the items inside\n",
    "ordered sequence = in reference to index location (the first element will be at index 0)\n",
    "\"\"\"\n",
    "\n",
    "#Declaring a list of numbers\n",
    "nums = [5, 10, 15.2, 20]\n",
    "print(nums)\n",
    "\n",
    "#accessing elements within a list\n",
    "print(nums[1])  #will output the value at index 1 = 10\n",
    "num = nums[2]  #saves index value 2 into num\n",
    "print(num)  #prints the value assigned to num"
   ]
  },
  {
   "cell_type": "code",
   "execution_count": 3,
   "metadata": {},
   "outputs": [
    {
     "name": "stdout",
     "output_type": "stream",
     "text": [
      "[4.3, 'word', True]\n"
     ]
    }
   ],
   "source": [
    "#Declaring a list of mixed data types\n",
    "num = 4.3\n",
    "data = [num, \"word\", True]  #the power of data collection \n",
    "print(data)"
   ]
  },
  {
   "cell_type": "code",
   "execution_count": 4,
   "metadata": {},
   "outputs": [
    {
     "name": "stdout",
     "output_type": "stream",
     "text": [
      "[5, 'book', [34, 'hello'], True]\n",
      "[34, 'hello']\n"
     ]
    }
   ],
   "source": [
    "#understanding lists within lists\n",
    "data = [5, \"book\", [34, \"hello\"], True] #lists can hold any type\n",
    "print(data)\n",
    "print(data[2])  #will print the list stored inside the data variable"
   ]
  },
  {
   "cell_type": "code",
   "execution_count": 5,
   "metadata": {},
   "outputs": [
    {
     "name": "stdout",
     "output_type": "stream",
     "text": [
      "34\n",
      "hello\n"
     ]
    }
   ],
   "source": [
    "#using double bracket notation to access lists within lists\n",
    "print(data[2][0])   #will output 34\n",
    "inner_list = data[2]    #inner list will = [34, \"hello\"]\n",
    "print(inner_list[1])    #will output \"hello\""
   ]
  },
  {
   "cell_type": "code",
   "execution_count": 6,
   "metadata": {},
   "outputs": [
    {
     "name": "stdout",
     "output_type": "stream",
     "text": [
      "b\n"
     ]
    }
   ],
   "source": [
    "#can also further index string\n",
    "print(data[1][0])   #will output \"b\""
   ]
  },
  {
   "cell_type": "code",
   "execution_count": 7,
   "metadata": {},
   "outputs": [
    {
     "name": "stdout",
     "output_type": "stream",
     "text": [
      "[5, 10, 15, 20]\n",
      "[100, 10, 15, 20]\n"
     ]
    }
   ],
   "source": [
    "#changin values in a list through index\n",
    "data = [5, 10, 15, 20]\n",
    "print(data)\n",
    "data[0] = 100   #change the value at index 0\n",
    "print(data)"
   ]
  },
  {
   "cell_type": "code",
   "execution_count": 1,
   "metadata": {},
   "outputs": [
    {
     "name": "stdout",
     "output_type": "stream",
     "text": [
      "a:[5, 10]\t b:[5, 10]\n",
      "Location a[0]: 4295704944\t Location b[0]: 4295704944\n",
      "Memory allocation is the same\n",
      "a: [20, 10]\t b: [20, 10]\n"
     ]
    }
   ],
   "source": [
    "#understaning how lists are stored\n",
    "a = [5, 10]\n",
    "b = a\n",
    "print(\"a:{}\\t b:{}\".format(a, b))\n",
    "print(\"Location a[0]: {}\\t Location b[0]: {}\".format(id(a[0]), id(b[0])))\n",
    "if id(a[0]) == id(b[0]):\n",
    "    print(\"Memory allocation is the same\")\n",
    "else:\n",
    "    print(\"memory allocation is not the same\")\n",
    "a[0] = 20   #redeclaring the value of a[0] also changes b[0]\n",
    "print(\"a: {}\\t b: {}\".format(a,b))"
   ]
  },
  {
   "cell_type": "code",
   "execution_count": 9,
   "metadata": {},
   "outputs": [
    {
     "name": "stdout",
     "output_type": "stream",
     "text": [
      "data: [50, 10, 15, 20]\t data_copy: [5, 10, 15, 20]\n"
     ]
    }
   ],
   "source": [
    "#using [:] to copy a list\n",
    "data = [5, 10, 15, 20]\n",
    "data_copy = data[:] #a single colon copies the list\n",
    "data[0] = 50\n",
    "print(\"data: {}\\t data_copy: {}\".format(data, data_copy))"
   ]
  },
  {
   "cell_type": "code",
   "execution_count": 3,
   "metadata": {},
   "outputs": [
    {
     "name": "stdout",
     "output_type": "stream",
     "text": [
      "J\n",
      "A\n",
      "S\n"
     ]
    }
   ],
   "source": [
    "#Monday exericise 2\n",
    "names = [\"John\", \"Abraham\", \"Sam\", \"Kelly\"]\n",
    "print(names[0][0])\n",
    "print(names[1][0])\n",
    "print(names[2][0])"
   ]
  },
  {
   "cell_type": "markdown",
   "metadata": {},
   "source": [
    "# Tuesday: For loops"
   ]
  },
  {
   "cell_type": "markdown",
   "metadata": {},
   "source": [
    "For loops are used to loop a set number of times"
   ]
  },
  {
   "cell_type": "code",
   "execution_count": 10,
   "metadata": {},
   "outputs": [
    {
     "name": "stdout",
     "output_type": "stream",
     "text": [
      "Value: 0\n",
      "Value: 1\n",
      "Value: 2\n",
      "Value: 3\n",
      "Value: 4\n"
     ]
    }
   ],
   "source": [
    "#Writing your first for loop using range\n",
    "for num in range(5):\n",
    "    print(\"Value: {}\".format(num))  #the value 5 is not ouput because range() counts up to but not including"
   ]
  },
  {
   "cell_type": "code",
   "execution_count": 4,
   "metadata": {},
   "outputs": [
    {
     "name": "stdout",
     "output_type": "stream",
     "text": [
      "value: 2\n",
      "value: 4\n",
      "value: 6\n",
      "value: 8\n",
      "value: 10\n"
     ]
    }
   ],
   "source": [
    "#providing the start, stop, and step for the range function. \n",
    "for num in range (2, 11, 2):\n",
    "    print(\"value: {}\".format(num))  #will print all evens between 2 and 10"
   ]
  },
  {
   "cell_type": "code",
   "execution_count": 12,
   "metadata": {},
   "outputs": [
    {
     "name": "stdout",
     "output_type": "stream",
     "text": [
      "Value: J\n",
      "Value: o\n",
      "Value: h\n",
      "Value: n\n",
      "Value:  \n",
      "Value: S\n",
      "Value: m\n",
      "Value: i\n",
      "Value: t\n",
      "Value: h\n"
     ]
    }
   ],
   "source": [
    "#printing all characters in a name using the 'in' keyword\n",
    "name = \"John Smith\"\n",
    "for letter in name:     #note here that the temp variable can be called anything, 'letter' isnt important\n",
    "    print(\"Value: {}\".format(letter))"
   ]
  },
  {
   "cell_type": "code",
   "execution_count": 13,
   "metadata": {},
   "outputs": [
    {
     "name": "stdout",
     "output_type": "stream",
     "text": [
      "0\n",
      "1\n",
      "2\n",
      "4\n"
     ]
    }
   ],
   "source": [
    "#using the continue statement within a for loop \n",
    "for num in range(5):\n",
    "    if num == 3:\n",
    "        continue    #continue basically means skip\n",
    "    print(num)"
   ]
  },
  {
   "cell_type": "code",
   "execution_count": 14,
   "metadata": {},
   "outputs": [
    {
     "name": "stdout",
     "output_type": "stream",
     "text": [
      "0\n",
      "1\n",
      "2\n"
     ]
    }
   ],
   "source": [
    "#breaking out of a loop using the 'break' keyword\n",
    "for num in range(5):\n",
    "    if num == 3:\n",
    "        break\n",
    "    print(num)"
   ]
  },
  {
   "cell_type": "code",
   "execution_count": 16,
   "metadata": {},
   "outputs": [],
   "source": [
    "#setting a placeholder using the 'pass' keyword\n",
    "for i in range(5):\n",
    "    # TODO: add code to print number\n",
    "    pass\n"
   ]
  },
  {
   "cell_type": "code",
   "execution_count": 7,
   "metadata": {},
   "outputs": [
    {
     "name": "stdout",
     "output_type": "stream",
     "text": [
      "4\n",
      "8\n",
      "12\n",
      "16\n",
      "20\n",
      "24\n",
      "28\n",
      "32\n",
      "36\n",
      "40\n",
      "44\n"
     ]
    }
   ],
   "source": [
    "#workshop exercise - print only numbers divisible by 4 between 0-40\n",
    "for num in range(0, 45, 4):\n",
    "    if num == 0:\n",
    "        continue\n",
    "    print(num)"
   ]
  },
  {
   "cell_type": "code",
   "execution_count": 16,
   "metadata": {},
   "outputs": [
    {
     "name": "stdout",
     "output_type": "stream",
     "text": [
      "a\n",
      "i\n",
      "o\n",
      "i\n"
     ]
    }
   ],
   "source": [
    "#workshop exercise\n",
    "word = input(\"Input a word.\")\n",
    "word = word.lower()\n",
    "vowels = (\"aeiou\")\n",
    "for letter in word:\n",
    "    if letter not in vowels: \n",
    "        continue\n",
    "    print(letter)"
   ]
  },
  {
   "cell_type": "code",
   "execution_count": 20,
   "metadata": {},
   "outputs": [
    {
     "name": "stdout",
     "output_type": "stream",
     "text": [
      "a\n",
      "o\n",
      "i\n"
     ]
    }
   ],
   "source": [
    "#alternative of above\n",
    "word = input(\"Input a word.\")\n",
    "word = word.lower()\n",
    "for letter in word:\n",
    "    if letter == \"a\" or \"e\" or \"i\" or \"u\":\n",
    "        print(letter)"
   ]
  },
  {
   "cell_type": "code",
   "execution_count": 29,
   "metadata": {},
   "outputs": [
    {
     "name": "stdout",
     "output_type": "stream",
     "text": [
      "2\n",
      "3\n",
      "7\n",
      "11\n",
      "13\n",
      "17\n",
      "19\n"
     ]
    }
   ],
   "source": [
    "#print for loop to 20 that prints primes - my solution\n",
    "primes = 2, 3, 7, 11, 13, 17, 19\n",
    "for i in range(20):\n",
    "    if i in primes:\n",
    "        print(i)"
   ]
  },
  {
   "cell_type": "code",
   "execution_count": 28,
   "metadata": {},
   "outputs": [
    {
     "name": "stdout",
     "output_type": "stream",
     "text": [
      "2\n",
      "3\n",
      "7\n",
      "11\n",
      "13\n",
      "17\n",
      "19\n"
     ]
    }
   ],
   "source": [
    "#Matt's solution\n",
    "\n",
    "primes = [2, 3, 7, 11, 13, 17, 19]  #makes a lookup table\n",
    "for i in range (0, 20, 1):\n",
    "    if i in primes:\n",
    "        print(i)"
   ]
  },
  {
   "cell_type": "markdown",
   "metadata": {},
   "source": [
    "# Wednesday: While loops"
   ]
  },
  {
   "cell_type": "code",
   "execution_count": 30,
   "metadata": {},
   "outputs": [
    {
     "name": "stdout",
     "output_type": "stream",
     "text": [
      "10\n",
      "9\n",
      "8\n",
      "7\n",
      "6\n",
      "5\n",
      "4\n",
      "3\n",
      "2\n",
      "1\n",
      "game over\n"
     ]
    }
   ],
   "source": [
    "\"\"\"\n",
    "writing your first while loop\n",
    "While loops will continue to loop until a condition is met\n",
    "\"\"\"\n",
    "\n",
    "health = 10\n",
    "while health > 0:\n",
    "    print(health)\n",
    "    health -=1  #forgetting this line will result in infinite loop \n",
    "    if health == 0:\n",
    "        print(\"game over\")"
   ]
  },
  {
   "cell_type": "code",
   "execution_count": 18,
   "metadata": {},
   "outputs": [
    {
     "name": "stdout",
     "output_type": "stream",
     "text": [
      "0 0\n",
      "0 1\n",
      "0 2\n",
      "1 0\n",
      "1 1\n",
      "1 2\n"
     ]
    }
   ],
   "source": [
    "#using two or more loops together is called a nested loop \n",
    "for i in range(2):  #outside loop - gets executed first\n",
    "    for j in range(3):  #inside loop\n",
    "        print(i,j)"
   ]
  },
  {
   "cell_type": "code",
   "execution_count": 31,
   "metadata": {},
   "outputs": [
    {
     "name": "stdout",
     "output_type": "stream",
     "text": [
      "0 0 0\n",
      "0 0 1\n",
      "0 0 2\n",
      "0 1 0\n",
      "0 1 1\n",
      "0 1 2\n",
      "0 2 0\n",
      "0 2 1\n",
      "0 2 2\n",
      "1 0 0\n",
      "1 0 1\n",
      "1 0 2\n",
      "1 1 0\n",
      "1 1 1\n",
      "1 1 2\n",
      "1 2 0\n",
      "1 2 1\n",
      "1 2 2\n"
     ]
    }
   ],
   "source": [
    "#using 3 loops together\n",
    "for i in range(2):\n",
    "    for j in range(3):\n",
    "        for k in range(3):\n",
    "            print(i, j, k)"
   ]
  },
  {
   "cell_type": "code",
   "execution_count": null,
   "metadata": {},
   "outputs": [],
   "source": [
    "#Wednesday exercise 1: write a loop that continues to ask for user input and runs until they type quit\n"
   ]
  },
  {
   "cell_type": "code",
   "execution_count": 41,
   "metadata": {},
   "outputs": [
    {
     "name": "stdout",
     "output_type": "stream",
     "text": [
      "0\n",
      "1\n",
      "2\n"
     ]
    }
   ],
   "source": [
    "game_over = False\n",
    "while not game_over:\n",
    "    for i in range(4):\n",
    "        if i == 3:\n",
    "            game_over = True\n",
    "            break\n",
    "        print(i)"
   ]
  },
  {
   "cell_type": "markdown",
   "metadata": {},
   "source": [
    "# Thursday: Working with lists"
   ]
  },
  {
   "cell_type": "code",
   "execution_count": 19,
   "metadata": {},
   "outputs": [
    {
     "name": "stdout",
     "output_type": "stream",
     "text": [
      "3\n"
     ]
    }
   ],
   "source": [
    "#checking the number of items within a list\n",
    "nums = [5, 10, 15]\n",
    "length = len(nums)  #len() returns an integer\n",
    "print(length)"
   ]
  },
  {
   "cell_type": "code",
   "execution_count": 20,
   "metadata": {},
   "outputs": [
    {
     "name": "stdout",
     "output_type": "stream",
     "text": [
      "[10, 15]\n",
      "[5, 10]\n",
      "[5, 15]\n",
      "[10, 15]\n"
     ]
    }
   ],
   "source": [
    "#accessing specific items of a list with slices\n",
    "print(nums[1:3])    #will output items in index 1 and 2\n",
    "print(nums[:2])     #will output items in index 0 and 1\n",
    "print(nums[::2])    #will print every other index; 0, 2, 4, etc\n",
    "print(nums[-2:])    #will output the last two items in the list"
   ]
  },
  {
   "cell_type": "code",
   "execution_count": 27,
   "metadata": {},
   "outputs": [
    {
     "name": "stdout",
     "output_type": "stream",
     "text": [
      "[10, 20, 5]\n"
     ]
    }
   ],
   "source": [
    "#adding an item to the back of a list using append\n",
    "nums = [10, 20]\n",
    "nums.append(5)\n",
    "print(nums)     #outputs 10, 20, 5"
   ]
  },
  {
   "cell_type": "code",
   "execution_count": 26,
   "metadata": {},
   "outputs": [
    {
     "name": "stdout",
     "output_type": "stream",
     "text": [
      "['glove', 'ball', 'base']\n"
     ]
    }
   ],
   "source": [
    "#adding a value to the beginning of the list\n",
    "words = [\"ball\", \"base\"]\n",
    "words.insert(0, \"glove\")     #first number in the index, second is the value\n",
    "print(words)"
   ]
  },
  {
   "cell_type": "code",
   "execution_count": 28,
   "metadata": {},
   "outputs": [
    {
     "name": "stdout",
     "output_type": "stream",
     "text": [
      "5 \n",
      " ['ball']\n"
     ]
    }
   ],
   "source": [
    "#using pop to remove items and saving to a variable to use later\n",
    "items = [5, \"ball\", True]\n",
    "items.pop()     #by default removes the last item\n",
    "removed_item = items.pop(0)     #removes 5 and saves it into the variable\n",
    "print(removed_item, \"\\n\", items)"
   ]
  },
  {
   "cell_type": "code",
   "execution_count": 32,
   "metadata": {},
   "outputs": [
    {
     "name": "stdout",
     "output_type": "stream",
     "text": [
      "['baseball', 'football', 'hockey']\n"
     ]
    }
   ],
   "source": [
    "#using the remove methods with a try and except\n",
    "sports = [\"baseball\", \"soccer\", \"football\", \"hockey\"]\n",
    "try: \n",
    "    sports.remove(\"soccer\")\n",
    "except:\n",
    "    print(\"that item does not exist in the list\")\n",
    "print(sports)"
   ]
  },
  {
   "cell_type": "code",
   "execution_count": 33,
   "metadata": {},
   "outputs": [
    {
     "name": "stdout",
     "output_type": "stream",
     "text": [
      "3\n",
      "9\n",
      "17\n"
     ]
    }
   ],
   "source": [
    "#using min, max, and sum\n",
    "nums = [5, 3, 9]\n",
    "print(min(nums))       #will find the lowest number in the list\n",
    "print(max(nums))\n",
    "print(sum(nums))"
   ]
  },
  {
   "cell_type": "code",
   "execution_count": 35,
   "metadata": {},
   "outputs": [
    {
     "name": "stdout",
     "output_type": "stream",
     "text": [
      "[5, 8, 0, 2] [0, 2, 5, 8]\n"
     ]
    }
   ],
   "source": [
    "#using sorted on lists for numerical and alphabetical data\n",
    "nums = [5, 8, 0, 2]\n",
    "sorted_nums = sorted(nums)   #save to a new variable to use later\n",
    "print(nums, sorted_nums)"
   ]
  },
  {
   "cell_type": "code",
   "execution_count": 37,
   "metadata": {},
   "outputs": [
    {
     "name": "stdout",
     "output_type": "stream",
     "text": [
      "[0, 3, 5, 8]\n"
     ]
    }
   ],
   "source": [
    "#sorting a list with .sort() in-place. This will change the original list rather than save as a new list\n",
    "nums = [5, 0, 8, 3]\n",
    "nums.sort()     #alters the original variable directly \n",
    "print(nums)"
   ]
  },
  {
   "cell_type": "code",
   "execution_count": 38,
   "metadata": {},
   "outputs": [
    {
     "name": "stdout",
     "output_type": "stream",
     "text": [
      "found\n",
      "not found\n"
     ]
    }
   ],
   "source": [
    "#using conditional statements on a list\n",
    "names = [\"Jack\", \"Robert\", \"Mary\"]\n",
    "if \"Mary\" in names:\n",
    "    print(\"found\")  #will run since Mary is in the list\n",
    "if \"Jimmy\" not in names:\n",
    "    print(\"not found\")"
   ]
  },
  {
   "cell_type": "code",
   "execution_count": 39,
   "metadata": {},
   "outputs": [
    {
     "name": "stdout",
     "output_type": "stream",
     "text": [
      "empty\n"
     ]
    }
   ],
   "source": [
    "#using conditionals to see if a list is empty \n",
    "nums = []\n",
    "if not nums:        #could also say 'if nums == []'\n",
    "    print(\"empty\")"
   ]
  },
  {
   "cell_type": "code",
   "execution_count": 40,
   "metadata": {},
   "outputs": [
    {
     "name": "stdout",
     "output_type": "stream",
     "text": [
      "baseball\n",
      "Hockey\n",
      "football\n",
      "basketball\n"
     ]
    }
   ],
   "source": [
    "#using a for loop to print all items in a list\n",
    "sports = [\"baseball\", \"Hockey\", \"football\", \"basketball\"]\n",
    "for sport in sports:\n",
    "    print(sport)"
   ]
  },
  {
   "cell_type": "code",
   "execution_count": 41,
   "metadata": {},
   "outputs": [
    {
     "name": "stdout",
     "output_type": "stream",
     "text": [
      "['Jack', 'rob', 'Robert']\n"
     ]
    }
   ],
   "source": [
    "#using the while loop to remove a certain value\n",
    "names = [\"bob\", \"Jack\", \"rob\", \"bob\", \"Robert\"]\n",
    "while \"bob\" in names:\n",
    "    names.remove(\"bob\")     #removes all instance of 'bob'\n",
    "print(names)"
   ]
  },
  {
   "cell_type": "code",
   "execution_count": 34,
   "metadata": {},
   "outputs": [
    {
     "name": "stdout",
     "output_type": "stream",
     "text": [
      "['Amanda', 'Bob', 'Kenny']\n"
     ]
    }
   ],
   "source": [
    "#removing duplications\n",
    "names = [\"Bob\", \"Kenny\", \"Amanda\", \"Bob\", \"Kenny\"]\n",
    "for position in names:\n",
    "    count = names.count(position)\n",
    "    if count>=2:\n",
    "        names.remove(position)\n",
    "print(names)"
   ]
  },
  {
   "cell_type": "code",
   "execution_count": 14,
   "metadata": {},
   "outputs": [
    {
     "name": "stdout",
     "output_type": "stream",
     "text": [
      "['dog', 'egg', 'quit']\n"
     ]
    }
   ],
   "source": [
    "\"\"\"\"\n",
    "Thursday exercise 2: user input; use a while loop to continually ask for input until they type quit. \n",
    "Once word typed, add it to a list, once they quit the loop, use a for loop to output all items\n",
    "\"\"\" \n",
    "words = []\n",
    "while \"quit\" not in words:\n",
    "    words.append(input(\"input word (enter quit to quit)\"))\n",
    "while \"quit\" in words:\n",
    "    print(words)\n",
    "    break\n"
   ]
  },
  {
   "cell_type": "markdown",
   "metadata": {},
   "source": [
    "# Friday: Creating hangman"
   ]
  },
  {
   "cell_type": "code",
   "execution_count": 72,
   "metadata": {},
   "outputs": [
    {
     "name": "stdout",
     "output_type": "stream",
     "text": [
      "Thanks for playing.\n"
     ]
    }
   ],
   "source": [
    "# import additional functions\n",
    "from random import choice \n",
    "from IPython.display import clear_output\n",
    "\n",
    "#declare game variables\n",
    "words = [\"tree\", \"basket\", \"chair\", \"paper\", \"python\"]\n",
    "word = choice(words)    #randomly chooses a word from words list\n",
    "guessed, lives, game_over = [], 7, False    #multi variable assignment\n",
    "\n",
    "#create a list of underscores to the length of the word\n",
    "guesses = [\"_ \"]*len(word)   #get proper length of underscores by multiplying the list by the length of randomly chosen word \n",
    "\n",
    "#create main game loop \n",
    "while not game_over:\n",
    "    #output game information\n",
    "    hidden_word = \"\".join(guesses)  #states we want to join all the items within the guiesses list together with no spaces in between\n",
    "    print(\"Your guessed letters: {}\".format(guessed))\n",
    "    print(\"Word to guess:{}\".format(hidden_word))\n",
    "    print(\"lives: {}\".format(lives))\n",
    "    ans = input(\"Type quit or guess a letter:\").lower()\n",
    "    clear_output()      #clears all previous output\n",
    "    if ans == \"quit\":\n",
    "        print(\"Thanks for playing.\")\n",
    "        game_over = True\n",
    "    elif ans in word and ans not in guessed:   #check if letter in word\n",
    "        print(\"You guessed correctly!\")\n",
    "        #create a loop to change underscore to proper letter\n",
    "        for i in range (len(word)):\n",
    "            if word[i] == ans:   #compares values at indexes\n",
    "                guesses[i] = ans\n",
    "    elif ans in guessed: \n",
    "         print(\"You already guessed that. Try again.\")\n",
    "    else:   #otherwise lose life\n",
    "        lives -=1\n",
    "        print(\"Incorrect, you lost a life.\")\n",
    "        if ans not in guessed:\n",
    "             guessed.append(ans)    #add ans to guessed list\n",
    "    if lives <= 0:\n",
    "            print(\"You lost all your lives, you lost!\")\n",
    "            game_over = True\n",
    "    elif word == \"\".join(guesses):\n",
    "            print(\"Congratulations, you guessed it correctly!\")\n",
    "            game_over = True"
   ]
  },
  {
   "cell_type": "markdown",
   "metadata": {},
   "source": [
    "# Challenge "
   ]
  },
  {
   "cell_type": "code",
   "execution_count": null,
   "metadata": {},
   "outputs": [
    {
     "name": "stdout",
     "output_type": "stream",
     "text": [
      "                                                  \n",
      "                                                 x \n",
      "                                                x x \n",
      "                                               x x x \n",
      "                                              x x x x \n",
      "                                             x x x x x \n",
      "                                            x x x x x x \n",
      "                                           x x x x x x x \n",
      "                                          x x x x x x x x \n",
      "                                         x x x x x x x x x \n",
      "                                        x x x x x x x x x x \n",
      "                                       x x x x x x x x x x x \n",
      "                                      x x x x x x x x x x x x \n",
      "                                     x x x x x x x x x x x x x \n",
      "                                    x x x x x x x x x x x x x x \n",
      "                                   x x x x x x x x x x x x x x x \n",
      "                                  x x x x x x x x x x x x x x x x \n",
      "                                 x x x x x x x x x x x x x x x x x \n",
      "                                x x x x x x x x x x x x x x x x x x \n",
      "                               x x x x x x x x x x x x x x x x x x x \n",
      "                              x x x x x x x x x x x x x x x x x x x x \n",
      "                             x x x x x x x x x x x x x x x x x x x x x \n",
      "                            x x x x x x x x x x x x x x x x x x x x x x \n",
      "                           x x x x x x x x x x x x x x x x x x x x x x x \n",
      "                          x x x x x x x x x x x x x x x x x x x x x x x x \n",
      "                         x x x x x x x x x x x x x x x x x x x x x x x x x \n",
      "                        x x x x x x x x x x x x x x x x x x x x x x x x x x \n",
      "                       x x x x x x x x x x x x x x x x x x x x x x x x x x x \n",
      "                      x x x x x x x x x x x x x x x x x x x x x x x x x x x x \n",
      "                     x x x x x x x x x x x x x x x x x x x x x x x x x x x x x \n",
      "                    x x x x x x x x x x x x x x x x x x x x x x x x x x x x x x \n",
      "                   x x x x x x x x x x x x x x x x x x x x x x x x x x x x x x x \n",
      "                  x x x x x x x x x x x x x x x x x x x x x x x x x x x x x x x x \n",
      "                 x x x x x x x x x x x x x x x x x x x x x x x x x x x x x x x x x \n",
      "                x x x x x x x x x x x x x x x x x x x x x x x x x x x x x x x x x x \n",
      "               x x x x x x x x x x x x x x x x x x x x x x x x x x x x x x x x x x x \n",
      "              x x x x x x x x x x x x x x x x x x x x x x x x x x x x x x x x x x x x \n",
      "             x x x x x x x x x x x x x x x x x x x x x x x x x x x x x x x x x x x x x \n",
      "            x x x x x x x x x x x x x x x x x x x x x x x x x x x x x x x x x x x x x x \n",
      "           x x x x x x x x x x x x x x x x x x x x x x x x x x x x x x x x x x x x x x x \n",
      "          x x x x x x x x x x x x x x x x x x x x x x x x x x x x x x x x x x x x x x x x \n",
      "         x x x x x x x x x x x x x x x x x x x x x x x x x x x x x x x x x x x x x x x x x \n",
      "        x x x x x x x x x x x x x x x x x x x x x x x x x x x x x x x x x x x x x x x x x x \n",
      "       x x x x x x x x x x x x x x x x x x x x x x x x x x x x x x x x x x x x x x x x x x x \n",
      "      x x x x x x x x x x x x x x x x x x x x x x x x x x x x x x x x x x x x x x x x x x x x \n",
      "     x x x x x x x x x x x x x x x x x x x x x x x x x x x x x x x x x x x x x x x x x x x x x \n",
      "    x x x x x x x x x x x x x x x x x x x x x x x x x x x x x x x x x x x x x x x x x x x x x x \n",
      "   x x x x x x x x x x x x x x x x x x x x x x x x x x x x x x x x x x x x x x x x x x x x x x x \n",
      "  x x x x x x x x x x x x x x x x x x x x x x x x x x x x x x x x x x x x x x x x x x x x x x x x \n",
      " x x x x x x x x x x x x x x x x x x x x x x x x x x x x x x x x x x x x x x x x x x x x x x x x x \n"
     ]
    }
   ],
   "source": [
    "\"\"\" use a loop to build a pyramid of x's. It should be modular so that if you loop to 5 or 50, it still \n",
    "creates evenly spaced rows. \n",
    "hint = multiply the string \"x' by the row.\n",
    "\"\"\"  \n",
    "num = int(input(\"enter number\"))\n",
    "for i in range(num):\n",
    "    spaces = \" \" * (num - i)\n",
    "    row = \"x \" * i\n",
    "    print(\"{}{}\".format(spaces, row))\n",
    "\n"
   ]
  }
 ],
 "metadata": {
  "kernelspec": {
   "display_name": "Python 3",
   "language": "python",
   "name": "python3"
  },
  "language_info": {
   "codemirror_mode": {
    "name": "ipython",
    "version": 3
   },
   "file_extension": ".py",
   "mimetype": "text/x-python",
   "name": "python",
   "nbconvert_exporter": "python",
   "pygments_lexer": "ipython3",
   "version": "3.10.5"
  }
 },
 "nbformat": 4,
 "nbformat_minor": 2
}
