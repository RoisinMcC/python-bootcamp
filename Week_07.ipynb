{
 "cells": [
  {
   "cell_type": "markdown",
   "metadata": {},
   "source": [
    "# Week 7 - Object-orientated programming\n",
    "OOP\n",
    "Create objects through classes that we build. A class is a blueprint for how an object is created. "
   ]
  },
  {
   "cell_type": "markdown",
   "metadata": {},
   "source": [
    "# Monday - creating and instantiating a class\n",
    "Two stages when using classes - class definition and instantiation\n"
   ]
  },
  {
   "cell_type": "code",
   "execution_count": null,
   "metadata": {},
   "outputs": [],
   "source": [
    "#Creating your first class\n",
    "class Car():\n",
    "    pass    #simply using as a placeholder until we add more code"
   ]
  },
  {
   "cell_type": "code",
   "execution_count": 1,
   "metadata": {},
   "outputs": [
    {
     "name": "stdout",
     "output_type": "stream",
     "text": [
      "<__main__.Car object at 0x10c36d420>\n"
     ]
    }
   ],
   "source": [
    "#Instantiating an object from a class\n",
    "class Car():    #parens are optional here\n",
    "    pass\n",
    "ford = Car()    #Creates an instance of the Car class and stores into the variable ford\n",
    "print(ford)"
   ]
  },
  {
   "cell_type": "code",
   "execution_count": null,
   "metadata": {},
   "outputs": [],
   "source": [
    "#create a class and instantiate it. \n",
    "\n",
    "class CodingClass():        #creating the class\n",
    "    pass\n",
    "\n",
    "roisin = CodingClass()      #creating the instance to \"call\" the class\n",
    "matt = CodingClass()"
   ]
  },
  {
   "cell_type": "code",
   "execution_count": 2,
   "metadata": {},
   "outputs": [
    {
     "name": "stdout",
     "output_type": "stream",
     "text": [
      "281243534\n",
      "281243192\n"
     ]
    }
   ],
   "source": [
    "#Instantiating multiple pbjects from the same class\n",
    "class Car():\n",
    "    pass\n",
    "ford = Car()\n",
    "subaru = Car()  #creats another object from the car class\n",
    "print(hash(ford))\n",
    "print(hash(subaru)) #hash outputs a numerical representation of the location in memory for the variable"
   ]
  },
  {
   "cell_type": "code",
   "execution_count": null,
   "metadata": {},
   "outputs": [],
   "source": [
    "#Monday exercise 1:\n",
    "class Animals():\n",
    "    pass\n",
    "tiger = Animals()\n",
    "lion = Animals()"
   ]
  },
  {
   "cell_type": "markdown",
   "metadata": {},
   "source": [
    "# Tuesday - Attributes\n",
    "attributes are personalised features of classes and their instances.\n",
    "Attributes are just variables defined within a class"
   ]
  },
  {
   "cell_type": "code",
   "execution_count": 3,
   "metadata": {},
   "outputs": [
    {
     "name": "stdout",
     "output_type": "stream",
     "text": [
      "red\n"
     ]
    }
   ],
   "source": [
    "#how to define a class attribute\n",
    "class Car():\n",
    "    sound = \"beep\"      #all car objects will hjave this sound attribute and its value\n",
    "    colour = \"red\"      #all car objects will have this colour attribute and its value\n",
    "ford = Car()\n",
    "print(ford.colour)      #known as 'dot syntax'"
   ]
  },
  {
   "cell_type": "code",
   "execution_count": 46,
   "metadata": {},
   "outputs": [
    {
     "name": "stdout",
     "output_type": "stream",
     "text": [
      "kick\n"
     ]
    }
   ],
   "source": [
    "#Creating a class with some attribute\n",
    "\n",
    "class Sport():\n",
    "    soccer = \"kick\"\n",
    "    jiujitsu = \"wrestle\"\n",
    "\n",
    "roisin = Sport()\n",
    "print(roisin.soccer)"
   ]
  },
  {
   "cell_type": "code",
   "execution_count": 4,
   "metadata": {},
   "outputs": [
    {
     "name": "stdout",
     "output_type": "stream",
     "text": [
      "beep\n",
      "honk\n"
     ]
    }
   ],
   "source": [
    "#changing the value of an attribute\n",
    "class Car():\n",
    "    sound = \"beep\"      \n",
    "    colour = \"red\" \n",
    "\n",
    "ford = Car()\n",
    "\n",
    "print(ford.sound)       #will output 'beep'\n",
    "\n",
    "ford.sound = \"honk\"     #from now on the value of fords sound is honk, it does not affect other instances\n",
    "\n",
    "print(ford.sound)       #this will output 'honk'"
   ]
  },
  {
   "cell_type": "code",
   "execution_count": 5,
   "metadata": {},
   "outputs": [
    {
     "name": "stdout",
     "output_type": "stream",
     "text": [
      "blue\n"
     ]
    }
   ],
   "source": [
    "#initialisation (init) method\n",
    "\n",
    "#using the init method to give instances personalised attributes upon creation \n",
    "\n",
    "class Car():\n",
    "    def __init__(self, colour):\n",
    "        self.colour = colour        #sets the attribute colour to the value passed in \n",
    "\n",
    "ford = Car(\"blue\")                  #instantiating a Car class with the colour blue\n",
    "print(ford.colour)"
   ]
  },
  {
   "cell_type": "code",
   "execution_count": 47,
   "metadata": {},
   "outputs": [
    {
     "name": "stdout",
     "output_type": "stream",
     "text": [
      "Penny Farthing\n"
     ]
    }
   ],
   "source": [
    "#using the init magic method\n",
    "\n",
    "class Bicycle():\n",
    "    def __init__(self, type):\n",
    "        self.type = type\n",
    "\n",
    "fabian = Bicycle(\"Penny Farthing\")\n",
    "\n",
    "print(fabian.type)"
   ]
  },
  {
   "cell_type": "code",
   "execution_count": 6,
   "metadata": {},
   "outputs": [
    {
     "name": "stdout",
     "output_type": "stream",
     "text": [
      "blue 2016\n",
      "red 2018\n"
     ]
    }
   ],
   "source": [
    "#defining different values for multiple instances\n",
    "\n",
    "class Car():\n",
    "    def __init__(self, colour, year):\n",
    "        self.colour = colour        #sets the attribute colour to the value passed in\n",
    "        self.year = year\n",
    "ford = Car(\"blue\", 2016)\n",
    "subaru = Car(\"red\", 2018)\n",
    "\n",
    "print(ford.colour, ford.year)\n",
    "print(subaru.colour, subaru.year)"
   ]
  },
  {
   "cell_type": "markdown",
   "metadata": {},
   "source": [
    "if an attribute is declared inside of a class, but not within the init method, then it is known as a glocal attribute. Any attributes declared within the init method using the self keyword are instance attributes"
   ]
  },
  {
   "cell_type": "code",
   "execution_count": null,
   "metadata": {},
   "outputs": [
    {
     "name": "stdout",
     "output_type": "stream",
     "text": [
      "beep\n",
      "beep blue\n"
     ]
    }
   ],
   "source": [
    "#using and accessing global class attributes\n",
    "\n",
    "class Car():\n",
    "    sound = \"beep\"      #global attribute, accessile through the class itself\n",
    "    def __init__(self, colour):\n",
    "        self.colour = \"blue\"       #instance specific attribute, not accessible through the class itself\n",
    "\n",
    "print(Car.sound)\n",
    "#print(Car.colour)       #wont work, as colour is only available to instance of the Car class, not the class itself. \n",
    "\n",
    "ford = Car(\"blue\")\n",
    "print(ford.sound, ford.colour)      #colour will work as this is an instance"
   ]
  },
  {
   "cell_type": "code",
   "execution_count": 10,
   "metadata": {},
   "outputs": [
    {
     "name": "stdout",
     "output_type": "stream",
     "text": [
      "Sammi Husky\n",
      "Casey Chocolate Lab\n"
     ]
    }
   ],
   "source": [
    "#Tuesday exercise 1:\n",
    "\n",
    "class Dog():\n",
    "    species = \"canine\"\n",
    "    def __init__(self, name, breed):\n",
    "        self.name = name\n",
    "        self.breed = breed\n",
    "\n",
    "Sammi = Dog(\"Sammi\", \"Husky\")\n",
    "Casey = Dog(\"Casey\", \"Chocolate Lab\")\n",
    "\n",
    "print(Sammi.name, Sammi.breed)\n",
    "print(Casey.name, Casey.breed)"
   ]
  },
  {
   "cell_type": "code",
   "execution_count": 15,
   "metadata": {},
   "outputs": [
    {
     "name": "stdout",
     "output_type": "stream",
     "text": [
      "Roisin \n"
     ]
    }
   ],
   "source": [
    "#Tuesday Exercise 2\n",
    "\n",
    "class Person():\n",
    "    def __init__(self, name):\n",
    "        self.name = name\n",
    "\n",
    "person = Person(input(\"Please enter your name:\"))\n",
    "print(person.name)"
   ]
  },
  {
   "cell_type": "markdown",
   "metadata": {},
   "source": [
    "# Wednesday - Methods\n",
    "objects have atributes (i.e. colour and wheels for car) but also have actions (stop accelerate etc) known as methods\n",
    "Methods are essentially functions within classes"
   ]
  },
  {
   "cell_type": "code",
   "execution_count": 1,
   "metadata": {},
   "outputs": [
    {
     "name": "stdout",
     "output_type": "stream",
     "text": [
      "bark\n"
     ]
    }
   ],
   "source": [
    "#defining and calling our first class method\n",
    "class Dog():\n",
    "    def makeSound(self):\n",
    "        print(\"bark\")\n",
    "sam = Dog()\n",
    "sam.makeSound()"
   ]
  },
  {
   "cell_type": "code",
   "execution_count": 48,
   "metadata": {},
   "outputs": [
    {
     "name": "stdout",
     "output_type": "stream",
     "text": [
      "Happy Birthday!\n"
     ]
    }
   ],
   "source": [
    "#defining a method and calling it after instantiation\n",
    "\n",
    "class Fun():\n",
    "    def partyNoise(self):\n",
    "        print(\"Happy Birthday!\")\n",
    "mips = Fun()\n",
    "mips.partyNoise()"
   ]
  },
  {
   "cell_type": "code",
   "execution_count": 3,
   "metadata": {},
   "outputs": [
    {
     "name": "stdout",
     "output_type": "stream",
     "text": [
      "bark\n"
     ]
    }
   ],
   "source": [
    "#using the self keyword to access attributes within class methods\n",
    "\n",
    "class Dog():\n",
    "    sound = \"bark\"\n",
    "    def makeSound(self):\n",
    "        print(self.sound)       #self required to access attributes defined in the class\n",
    "\n",
    "sam = Dog()\n",
    "sam.makeSound()"
   ]
  },
  {
   "cell_type": "code",
   "execution_count": 4,
   "metadata": {},
   "outputs": [
    {
     "name": "stdout",
     "output_type": "stream",
     "text": [
      "I am a dog.\n",
      "bark\n"
     ]
    }
   ],
   "source": [
    "#understanding which methods are accessible via the class itself and class instances\n",
    "\n",
    "class Dog():\n",
    "    sound = \"bark\"\n",
    "    def makeSound(self):\n",
    "        print(self.sound)\n",
    "    \n",
    "    def printInfo():\n",
    "        print(\"I am a dog.\")\n",
    "\n",
    "Dog.printInfo()     #able to run printInfo method because it does not include self parameter\n",
    "\n",
    "# Dog.makeSound()   #would produce error, self is in reference to instances only\n",
    "\n",
    "sam = Dog()\n",
    "sam.makeSound()     #able to acess, self can reference the instance of sam\n",
    "\n",
    "# sam.printInfo     #will produce error, instances require the self parameter to access methods"
   ]
  },
  {
   "cell_type": "code",
   "execution_count": 5,
   "metadata": {},
   "outputs": [
    {
     "name": "stdout",
     "output_type": "stream",
     "text": [
      "6\n"
     ]
    }
   ],
   "source": [
    "#Writing methods that accept parameters\n",
    "\n",
    "class Dog():\n",
    "    def showAge(self, age):\n",
    "        print(age)          #does not need self, age is referenceing the parameter not an attribute\n",
    "\n",
    "sam = Dog()\n",
    "sam.showAge(6)              #passing the integer 6 as an argument to the showAge method"
   ]
  },
  {
   "cell_type": "code",
   "execution_count": 50,
   "metadata": {},
   "outputs": [
    {
     "name": "stdout",
     "output_type": "stream",
     "text": [
      "no name\n",
      "Sammi\n"
     ]
    }
   ],
   "source": [
    "#using methods to set or return attriute values, proper programming practice\n",
    "\n",
    "class Dog():\n",
    "    name = 'no name'\n",
    "    def setName(self, new_name):\n",
    "        self.name = new_name    #declares the new value for the name attribute\n",
    "\n",
    "    def getName(self):\n",
    "        return self.name        #returns the value of the name atribute\n",
    "    \n",
    "sam = Dog()\n",
    "print(sam.name)\n",
    "sam.setName(\"Sammi\")\n",
    "print(sam.name)"
   ]
  },
  {
   "cell_type": "code",
   "execution_count": 10,
   "metadata": {},
   "outputs": [
    {
     "name": "stdout",
     "output_type": "stream",
     "text": [
      "6\n"
     ]
    }
   ],
   "source": [
    "#incrementing/decrementing attribute values with methods, best programming practice\n",
    "\n",
    "class Dog():\n",
    "    age = 5\n",
    "    def happyBirthday(self):\n",
    "        self.age +=1\n",
    "\n",
    "sam = Dog()\n",
    "sam.happyBirthday()     #calls method to increment value by one\n",
    "\n",
    "print(sam.age)"
   ]
  },
  {
   "cell_type": "code",
   "execution_count": 12,
   "metadata": {},
   "outputs": [
    {
     "name": "stdout",
     "output_type": "stream",
     "text": [
      "Puppy!\n"
     ]
    }
   ],
   "source": [
    "#calling a class method from another method\n",
    "\n",
    "class Dog():\n",
    "    age = 6\n",
    "\n",
    "    def getAge(self):\n",
    "        return self.age\n",
    "    \n",
    "    def printInfo(self):\n",
    "        if self.getAge() < 10:       #need self to call other method for an instance\n",
    "            print(\"Puppy!\")\n",
    "\n",
    "sam = Dog()\n",
    "sam.printInfo()\n"
   ]
  },
  {
   "cell_type": "code",
   "execution_count": 57,
   "metadata": {},
   "outputs": [
    {
     "name": "stdout",
     "output_type": "stream",
     "text": [
      "The area of the rectangle is 4.0 units^2\n"
     ]
    }
   ],
   "source": [
    "#make an object that is capable of calculating the area of a rectange in a method, then ask\n",
    "#the user for inputs for x and y and instantiate the object and return the area\n",
    "\n",
    "class AreaRect():\n",
    "    def __init__(self, x, y):\n",
    "        self.x = x\n",
    "        self.y = y\n",
    "    def area(self):\n",
    "        area = self.y * self.x\n",
    "        return area\n",
    "\n",
    "rectangle_x = float(input(\"Enter x\"))\n",
    "rectangle_y = float(input(\"enter y value\"))\n",
    "\n",
    "rect = AreaRect(rectangle_x, rectangle_y)\n",
    "print(\"The area of the rectangle is {} units^2\".format(rect.area()))"
   ]
  },
  {
   "cell_type": "code",
   "execution_count": 13,
   "metadata": {},
   "outputs": [
    {
     "name": "stdout",
     "output_type": "stream",
     "text": [
      "<__main__.Dog object at 0x11149c670>\n"
     ]
    }
   ],
   "source": [
    "#Using magic methods\n",
    "\n",
    "class Dog():\n",
    "    def __stri__(self):\n",
    "        return \"This is a dog class\"\n",
    "    \n",
    "sam = Dog()\n",
    "print(sam)      #will print the return of the string magic method"
   ]
  },
  {
   "cell_type": "code",
   "execution_count": 16,
   "metadata": {},
   "outputs": [
    {
     "name": "stdout",
     "output_type": "stream",
     "text": [
      "feline\n"
     ]
    }
   ],
   "source": [
    "#Wendesday exercise 1: \n",
    "\n",
    "class Animals():\n",
    "\n",
    "    def setSpecies(self, species):\n",
    "        self.species = species\n",
    "\n",
    "    def getSpecies(self):\n",
    "        return self.species\n",
    "\n",
    "lion = Animals()\n",
    "lion.setSpecies(\"feline\")\n",
    "print(lion.species)"
   ]
  },
  {
   "cell_type": "code",
   "execution_count": 23,
   "metadata": {},
   "outputs": [
    {
     "name": "stdout",
     "output_type": "stream",
     "text": [
      "Hello Roisin , you are 29 years old\n"
     ]
    }
   ],
   "source": [
    "#Wednesday exercise 2:\n",
    "\n",
    "class Person():\n",
    "    def __init__(self, name):\n",
    "        self.name = name\n",
    "\n",
    "    age = 0\n",
    "    def setAge(self, new_age):\n",
    "        self.age = new_age\n",
    "    \n",
    "    def getAge(self):\n",
    "        return self.age\n",
    "\n",
    "pers = Person(input(\"Please enter your name:\"))\n",
    "pers.setAge(input(\"please enter your age:\"))\n",
    "print(\"Hello {}, you are {} years old\".format(pers.name, pers.age))\n"
   ]
  },
  {
   "cell_type": "markdown",
   "metadata": {},
   "source": [
    "# Thursday - Inheritance\n",
    "when you have two or more classes that use similar code, you generally want to set up a \"superclass\". \n",
    "The two classes that inherit all the code in the superclass are known as \"subclasses\""
   ]
  },
  {
   "cell_type": "code",
   "execution_count": 24,
   "metadata": {},
   "outputs": [
    {
     "name": "stdout",
     "output_type": "stream",
     "text": [
      "roar\n"
     ]
    }
   ],
   "source": [
    "#Inheriting a class and accessing the inherited method\n",
    "\n",
    "class Animal():\n",
    "    def makeSound(self):\n",
    "        print(\"roar\")\n",
    "\n",
    "class Dog(Animal):\n",
    "    species = \"canine\"\n",
    "\n",
    "sam = Dog()\n",
    "sam.makeSound()\n",
    "lion = Animal()\n",
    "# lion.species      #not accessible, inheritance does not work backwards"
   ]
  },
  {
   "cell_type": "code",
   "execution_count": 26,
   "metadata": {},
   "outputs": [
    {
     "name": "stdout",
     "output_type": "stream",
     "text": [
      "Canine\n"
     ]
    }
   ],
   "source": [
    "#Using the super() method to declare inherited attributes\n",
    "\n",
    "class Animal():\n",
    "    def __init__(self, species):\n",
    "        self.species = species\n",
    "\n",
    "class Dog(Animal):\n",
    "    def __init__(self, species, name):\n",
    "        self.name = name\n",
    "        super().__init__(species)       #using super to declare the species attribute defined in Animal \n",
    "\n",
    "sam = Dog(\"Canine\", \"Sammi\")\n",
    "print(sam.species)"
   ]
  },
  {
   "cell_type": "code",
   "execution_count": 28,
   "metadata": {},
   "outputs": [
    {
     "name": "stdout",
     "output_type": "stream",
     "text": [
      "bark\n",
      "Roar\n"
     ]
    }
   ],
   "source": [
    "#overriding methods defined in the superclass\n",
    "\n",
    "class Animal():\n",
    "    def makeSound(self):\n",
    "        print(\"Roar\")\n",
    "\n",
    "class Dog(Animal):\n",
    "    def makeSound(self):\n",
    "        print(\"bark\")\n",
    "\n",
    "sam, lion = Dog(), Animal()     #delclaring multiuple variables on a single line\n",
    "\n",
    "sam.makeSound()                 #overriding will call the makeSound method in Dog\n",
    "\n",
    "lion.makeSound()                #no overriding occurs as Animal does nott inherit anything"
   ]
  },
  {
   "cell_type": "code",
   "execution_count": 29,
   "metadata": {},
   "outputs": [
    {
     "name": "stdout",
     "output_type": "stream",
     "text": [
      "9.8 Ford\n"
     ]
    }
   ],
   "source": [
    "#How to inherit multiple classes\n",
    "\n",
    "class Physics():\n",
    "    gravity = 9.8\n",
    "\n",
    "class Automobile():\n",
    "    def __init__(self, make, model, year):\n",
    "        self.make, self.model, self.year = make, model, year    #declaring all attributes on one line\n",
    "\n",
    "class Ford(Physics, Automobile):                                #able to access Physics and Automobile attributes and methods\n",
    "    def __init__(self, model, year):\n",
    "        Automobile.__init__(self, \"Ford\", model, year)          #super does not work with multiple\n",
    "\n",
    "truck = Ford(\"F-150\", 2018)\n",
    "print(truck.gravity, truck.make)                                #ouput both attributes"
   ]
  },
  {
   "cell_type": "code",
   "execution_count": 43,
   "metadata": {},
   "outputs": [
    {
     "name": "stdout",
     "output_type": "stream",
     "text": [
      "Hello, my name is Superman and I'm on the good guys\n",
      "Hello, my name is Lex Luther and I'm on the bad guys\n"
     ]
    }
   ],
   "source": [
    "#Thursday exercise 1: \n",
    "\n",
    "class Characters():\n",
    "    def __init__(self, name, team, height, weight):\n",
    "        self.name, self.team, self.height, self.weight = name, team, height, weight\n",
    "\n",
    "    def sayHello(self):\n",
    "        print(\"Hello, my name is {} and I'm on the {} guys\".format(self.name, self.team))\n",
    "\n",
    "class GoodPlayers(Characters):\n",
    "    pass\n",
    "class BadPlayers(Characters):\n",
    "    pass\n",
    "\n",
    "pers1 = GoodPlayers(\"Superman\", \"good\", \"6 ft\", \"120\")\n",
    "pers2 = BadPlayers(\"Lex Luther\", \"bad\", \"7 ft\", \"140\")\n",
    "\n",
    "pers1.sayHello()\n",
    "pers2.sayHello()\n"
   ]
  },
  {
   "cell_type": "markdown",
   "metadata": {},
   "source": [
    "# Friday - Creating blackjack\n"
   ]
  },
  {
   "cell_type": "code",
   "execution_count": null,
   "metadata": {},
   "outputs": [
    {
     "name": "stdout",
     "output_type": "stream",
     "text": [
      "Roisin  Dealer\n"
     ]
    }
   ],
   "source": [
    "#importing necessary functions\n",
    "from random import randint  #allows us to get a random number\n",
    "from IPython.display import clear_output\n",
    "\n",
    "#creata the blackjack class, which will hold all game methods and attributes\n",
    "class Blackjack():\n",
    "    def __init__(self):\n",
    "        self.deck = []      #set to an empty list\n",
    "        self.suits = (\"Spades\", \"Hearts\", \"Diamonds\", \"Clubs\")\n",
    "        self.values = (2, 3, 4, 5, 6, 7, 8, 9, 10, \"J\", \"Q\", \"K\", \"A\")\n",
    "\n",
    "    #creat e amethod that creates a deck of 52 cards, each card should be a tuple with a value and a suit. \n",
    "    def makeDeck(self):\n",
    "        for suit in self.suits:\n",
    "            for value in self.values:\n",
    "                self.deck.append((value, suit))\n",
    "\n",
    "    #method to pop a card from deck using random index value\n",
    "    def pullCard(self):\n",
    "        return self.deck.pop(randint(0, len(self.deck) - 1))\n",
    "\n",
    "#creat a class for the deler and player objects\n",
    "class Player():\n",
    "    def __init__(self, name):\n",
    "        self.name = name\n",
    "        self.hand = []\n",
    "\n",
    "    #take in a tuple and applend it to the hand\n",
    "    def addCard(self, card):\n",
    "        self.hand.append(card)\n",
    "\n",
    "game = Blackjack()\n",
    "game.makeDeck()\n",
    "\n",
    "name = input(\"what is your name?\")\n",
    "player = Player(name)\n",
    "dealer = Player(\"Dealer\")\n",
    "\n",
    "#add two cards to the delaer and player hand\n",
    "for i in range(2):\n",
    "    player.addCar(game.pullCard())\n",
    "    dealer.addCard(game.pullCard())\n",
    "    print(\"Player hand: {} \\nDealer hand: {}\".format(player.hand, dealer.hand))"
   ]
  }
 ],
 "metadata": {
  "kernelspec": {
   "display_name": "Python 3",
   "language": "python",
   "name": "python3"
  },
  "language_info": {
   "codemirror_mode": {
    "name": "ipython",
    "version": 3
   },
   "file_extension": ".py",
   "mimetype": "text/x-python",
   "name": "python",
   "nbconvert_exporter": "python",
   "pygments_lexer": "ipython3",
   "version": "3.10.5"
  }
 },
 "nbformat": 4,
 "nbformat_minor": 2
}
