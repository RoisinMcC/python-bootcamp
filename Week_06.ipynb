{
 "cells": [
  {
   "cell_type": "markdown",
   "metadata": {},
   "source": [
    "# Week 6 - Data collections and Files\n",
    "Covering dictionaries, sets, tuples, and frozensets"
   ]
  },
  {
   "cell_type": "markdown",
   "metadata": {},
   "source": [
    "# Monday - Dictionaries\n",
    "A dictionary is a collection of unordered data, which is stored in key-value pairs. It is not accessible through an inde3x, but through a key. "
   ]
  },
  {
   "cell_type": "code",
   "execution_count": 1,
   "metadata": {},
   "outputs": [
    {
     "name": "stdout",
     "output_type": "stream",
     "text": [
      "{'name': 'Morty', 'age': 26}\n"
     ]
    }
   ],
   "source": [
    "#declaring a dictionary variable\n",
    "empty = {}  #empty dictionary\n",
    "person = {\"name\": \"John Smith\"}\n",
    "    #dictionary with one key/value pari\n",
    "customer = {\n",
    "    \"name\":\"Morty\",\n",
    "    \"age\": 26\n",
    "}       #dictionary with two key/value pairs\n",
    "print(customer)"
   ]
  },
  {
   "cell_type": "code",
   "execution_count": 2,
   "metadata": {},
   "outputs": [
    {
     "name": "stdout",
     "output_type": "stream",
     "text": [
      "John\n"
     ]
    }
   ],
   "source": [
    "#accessing dictionary information through keys\n",
    "person = {\"name\": \"John\"}\n",
    "print(person[\"name\"])"
   ]
  },
  {
   "cell_type": "code",
   "execution_count": 4,
   "metadata": {},
   "outputs": [
    {
     "name": "stdout",
     "output_type": "stream",
     "text": [
      "John\n",
      "Age is not available.\n"
     ]
    }
   ],
   "source": [
    "#Using the get method to acess dictionary information \n",
    "person = {\"name\": \"John\"}\n",
    "print(person.get(\"name\", \"name does not available\"))   #retrieves value of name key as before\n",
    "print(person.get(\"age\", \"Age is not available.\"))   #get is a sevure way to retrieve info"
   ]
  },
  {
   "cell_type": "code",
   "execution_count": 5,
   "metadata": {},
   "outputs": [
    {
     "name": "stdout",
     "output_type": "stream",
     "text": [
      "baseball\n"
     ]
    }
   ],
   "source": [
    "#storing a list within a dictionary and accessing it\n",
    "data = {\"sports\": [\"baseball\", \"footbal\", \"hockey\", \"soccer\"]}\n",
    "print(data[\"sports\"][0])    #first access key, then the index"
   ]
  },
  {
   "cell_type": "code",
   "execution_count": 6,
   "metadata": {},
   "outputs": [
    {
     "ename": "ValueError",
     "evalue": "dictionary update sequence element #0 has length 8; 2 is required",
     "output_type": "error",
     "traceback": [
      "\u001b[0;31m---------------------------------------------------------------------------\u001b[0m",
      "\u001b[0;31mValueError\u001b[0m                                Traceback (most recent call last)",
      "Cell \u001b[0;32mIn[6], line 3\u001b[0m\n\u001b[1;32m      1\u001b[0m \u001b[38;5;66;03m#improperly storing a list within a dictionary\u001b[39;00m\n\u001b[1;32m      2\u001b[0m sports \u001b[38;5;241m=\u001b[39m [\u001b[38;5;124m\"\u001b[39m\u001b[38;5;124mbaseball\u001b[39m\u001b[38;5;124m\"\u001b[39m, \u001b[38;5;124m\"\u001b[39m\u001b[38;5;124mfootball\u001b[39m\u001b[38;5;124m\"\u001b[39m, \u001b[38;5;124m\"\u001b[39m\u001b[38;5;124mhockey\u001b[39m\u001b[38;5;124m\"\u001b[39m, \u001b[38;5;124m\"\u001b[39m\u001b[38;5;124msoccer\u001b[39m\u001b[38;5;124m\"\u001b[39m]\n\u001b[0;32m----> 3\u001b[0m sports_dict \u001b[38;5;241m=\u001b[39m \u001b[38;5;28;43mdict\u001b[39;49m\u001b[43m(\u001b[49m\u001b[43msports\u001b[49m\u001b[43m)\u001b[49m  \u001b[38;5;66;03m#will produce error, no key\u001b[39;00m\n",
      "\u001b[0;31mValueError\u001b[0m: dictionary update sequence element #0 has length 8; 2 is required"
     ]
    }
   ],
   "source": [
    "#improperly storing a list within a dictionary\n",
    "sports = [\"baseball\", \"football\", \"hockey\", \"soccer\"]\n",
    "sports_dict = dict(sports)  #will produce error, no key"
   ]
  },
  {
   "cell_type": "code",
   "execution_count": 9,
   "metadata": {},
   "outputs": [
    {
     "name": "stdout",
     "output_type": "stream",
     "text": [
      "baseball\n"
     ]
    }
   ],
   "source": [
    "#to properly store list above:\n",
    "sports = [\"baseball\", \"football\", \"hockey\", \"soccer\"]\n",
    "sports_dict = dict({\"sports\": sports})\n",
    "print(sports_dict[\"sports\"][0])"
   ]
  },
  {
   "cell_type": "code",
   "execution_count": 10,
   "metadata": {},
   "outputs": [
    {
     "name": "stdout",
     "output_type": "stream",
     "text": [
      "{'name': 'Kirsten'}\n",
      "Kirsten\n"
     ]
    }
   ],
   "source": [
    "#storing a dictionary within a list and accessing it\n",
    "data = [\"John\", \"Dennis\", {\"name\":\"Kirsten\"}]\n",
    "print(data[2])  #dictionary is in index 2\n",
    "print(data[2][\"name\"])  #first access the index, then access the key"
   ]
  },
  {
   "cell_type": "code",
   "execution_count": 16,
   "metadata": {},
   "outputs": [
    {
     "name": "stdout",
     "output_type": "stream",
     "text": [
      "{'2018': 108, '2017': 93}\n",
      "108\n"
     ]
    }
   ],
   "source": [
    "#storing a dictionary withiin a dictionary and accessing it\n",
    "data = {\n",
    "    \"team\": \"Boston Red Sox\",\n",
    "    \"wins\": {\"2018\": 108, \"2017\": 93}\n",
    "    }\n",
    "print(data[\"wins\"]) #will output the dictionary within the wins key\n",
    "print(data[\"wins\"][\"2018\"])     #first access the wins key, then the next key"
   ]
  },
  {
   "cell_type": "code",
   "execution_count": 17,
   "metadata": {},
   "outputs": [
    {
     "name": "stdout",
     "output_type": "stream",
     "text": [
      "{'name': 'Roisin ', 'age': '29'}\n"
     ]
    }
   ],
   "source": [
    "#Monday exercise 1: \n",
    "data = {\n",
    "    \"name\": input(\"What is your name?\"), \n",
    "    \"age\": input(\"what is your age?\")\n",
    "}\n",
    "print(data)"
   ]
  },
  {
   "cell_type": "code",
   "execution_count": 19,
   "metadata": {},
   "outputs": [
    {
     "name": "stdout",
     "output_type": "stream",
     "text": [
      "Cheese\n",
      "sausage\n",
      "peppers\n"
     ]
    }
   ],
   "source": [
    "#Monday exercise 2:\n",
    "pizza = {\n",
    "    \"ingredients\": [\"Cheese\", \"sausage\", \"peppers\"]\n",
    "}\n",
    "for i in pizza[\"ingredients\"]: \n",
    "    print(i)"
   ]
  },
  {
   "cell_type": "markdown",
   "metadata": {},
   "source": [
    "# Tuesday - working with dictionaries\n",
    "How to add data, manipulate data, remove key-value pairs, and interate through dictionaries"
   ]
  },
  {
   "cell_type": "code",
   "execution_count": 21,
   "metadata": {},
   "outputs": [
    {
     "name": "stdout",
     "output_type": "stream",
     "text": [
      "Year:2018 \t Colour:blue\n"
     ]
    }
   ],
   "source": [
    "#adding new key/value pairs to a dictionary\n",
    "car = {\"year\":2018}\n",
    "car[\"colour\"] = \"blue\"\n",
    "print(\"Year:{} \\t Colour:{}\".format(car[\"year\"], car[\"colour\"]))"
   ]
  },
  {
   "cell_type": "code",
   "execution_count": 22,
   "metadata": {},
   "outputs": [
    {
     "name": "stdout",
     "output_type": "stream",
     "text": [
      "Year:2018 \t Colour:Red\n"
     ]
    }
   ],
   "source": [
    "#updating a value for a key/value pair that already exists\n",
    "car = {\"year\": 2018, \"colour\": \"Blue\"}\n",
    "car[\"colour\"] = \"Red\"\n",
    "print(\"Year:{} \\t Colour:{}\".format(car[\"year\"], car[\"colour\"]))"
   ]
  },
  {
   "cell_type": "code",
   "execution_count": 23,
   "metadata": {},
   "outputs": [
    {
     "name": "stdout",
     "output_type": "stream",
     "text": [
      "{}\n"
     ]
    }
   ],
   "source": [
    "#deleting a key/value pair from a dictionary\n",
    "car = {\"year\": 2018}\n",
    "try:\n",
    "    del car[\"year\"]\n",
    "    print(car)\n",
    "except:\n",
    "    print(\"that key does not exist!\")"
   ]
  },
  {
   "cell_type": "code",
   "execution_count": 25,
   "metadata": {},
   "outputs": [
    {
     "name": "stdout",
     "output_type": "stream",
     "text": [
      "name\n",
      "John\n",
      "age\n",
      "26\n"
     ]
    }
   ],
   "source": [
    "#Looping over a dictionary via the keys\n",
    "person = {\"name\": \"John\", \"age\": 26}\n",
    "for key in person.keys():\n",
    "    print(key)\n",
    "    print(person[key])  #will output the value at the current key"
   ]
  },
  {
   "cell_type": "code",
   "execution_count": 28,
   "metadata": {},
   "outputs": [
    {
     "name": "stdout",
     "output_type": "stream",
     "text": [
      "name: John\n",
      "age: 26\n"
     ]
    }
   ],
   "source": [
    "person = {\"name\": \"John\", \"age\": 26}\n",
    "for key in person.keys():\n",
    "    print(\"{}: {}\".format(key, person[key]))"
   ]
  },
  {
   "cell_type": "code",
   "execution_count": null,
   "metadata": {},
   "outputs": [
    {
     "name": "stdout",
     "output_type": "stream",
     "text": [
      "John\n",
      "26\n"
     ]
    }
   ],
   "source": [
    "#looping over a dictionary via the values, for when you dont need access the keys\n",
    "person = {\"name\": \"John\", \"age\": 26}\n",
    "for value in person.values():\n",
    "    print(value)"
   ]
  },
  {
   "cell_type": "code",
   "execution_count": 30,
   "metadata": {},
   "outputs": [
    {
     "name": "stdout",
     "output_type": "stream",
     "text": [
      "name: John\n",
      "age: 26\n"
     ]
    }
   ],
   "source": [
    "#looping over a dictionary via the key/value pair\n",
    "person = {\"name\": \"John\", \"age\": 26}\n",
    "for key, value in person.items():\n",
    "    print(\"{}: {}\".format(key, value))"
   ]
  },
  {
   "cell_type": "code",
   "execution_count": 31,
   "metadata": {},
   "outputs": [
    {
     "name": "stdout",
     "output_type": "stream",
     "text": [
      "name: Roisin \n",
      "address: Melbourne\n",
      "number: 12312312\n"
     ]
    }
   ],
   "source": [
    "#Tuesday exercise 1:\n",
    "Dict1 = {}\n",
    "Dict1[\"name\"] = input(\"what is your name?\")\n",
    "Dict1[\"address\"] = input(\"Enter your address\")\n",
    "Dict1[\"number\"] = input(\"Enter your phone number:\")\n",
    "for key, value in Dict1.items():\n",
    "    print(\"{}: {}\".format(key, value))"
   ]
  },
  {
   "cell_type": "code",
   "execution_count": 33,
   "metadata": {},
   "outputs": [
    {
     "name": "stdout",
     "output_type": "stream",
     "text": [
      "John Smith\n"
     ]
    }
   ],
   "source": [
    "#Tuesday exercise 2: \n",
    "person = {\"name\": \"John Smith\"}\n",
    "print(person[\"name\"])"
   ]
  },
  {
   "cell_type": "markdown",
   "metadata": {},
   "source": [
    "# Wednesday - Tuples, sets, frozensets\n",
    "Tuple is indentical to a list, except it is immutable - meaning it can't be altered once\n",
    "declared. Useful for storing information that you don't want to change. Ordered like lists, so can iterate throguh them using an index. "
   ]
  },
  {
   "cell_type": "code",
   "execution_count": 2,
   "metadata": {},
   "outputs": [
    {
     "name": "stdout",
     "output_type": "stream",
     "text": [
      "<class 'tuple'> <class 'tuple'>\n"
     ]
    }
   ],
   "source": [
    "#delcaring a tuple\n",
    "t1 = (\"hello\", 2, \"hello\")  #with parens\n",
    "t2 = True, 1                #without parens\n",
    "print(type(t1), type(t2))   #both are tuples\n",
    "#t1[0] = 1                   #will crash, tuples are immutable once declared"
   ]
  },
  {
   "cell_type": "markdown",
   "metadata": {},
   "source": [
    "Sets share the same characteristics of lists and dictionaries. A set is a collection of information like a list, but can only contain unique values. They are an unordered collection (i.e. can not be accessed by index, but rather through the value itself like a dictionary)"
   ]
  },
  {
   "cell_type": "code",
   "execution_count": 4,
   "metadata": {},
   "outputs": [
    {
     "name": "stdout",
     "output_type": "stream",
     "text": [
      "<class 'set'> <class 'set'>\n",
      "{2, 3, 5}\n"
     ]
    }
   ],
   "source": [
    "#declaring a set\n",
    "s1 = set([1, 2, 3, 1])  #uses the set keyword and square brackets\n",
    "s2 = {4, 4, 5}          #uses curly brackets, like dictionary\n",
    "print(type(s1), type(s2))\n",
    "s1.add(5)               #using the add method to add new items to set\n",
    "s1.remove(1)            #using the remove method to rid of the value 1\n",
    "print(s1)               #notice when printed it removed the second 1 at the end"
   ]
  },
  {
   "cell_type": "markdown",
   "metadata": {},
   "source": [
    "Frozensets are a combination of a set and a tuple. They are immutable, unordered, and unique. Perfect for sensitive information like bank account numbers, as you wouldn't want to alter those. They can be iterated over, but not indexed"
   ]
  },
  {
   "cell_type": "code",
   "execution_count": 40,
   "metadata": {},
   "outputs": [
    {
     "name": "stdout",
     "output_type": "stream",
     "text": [
      "<class 'frozenset'>\n",
      "frozenset({1, 2, 3, 4})\n"
     ]
    }
   ],
   "source": [
    "#declaring a frozenset\n",
    "fset = frozenset([1, 2, 3, 4])\n",
    "print(type(fset))\n",
    "\n",
    "print(fset)"
   ]
  },
  {
   "cell_type": "code",
   "execution_count": 20,
   "metadata": {},
   "outputs": [
    {
     "name": "stdout",
     "output_type": "stream",
     "text": [
      "Thanks for using the program \n",
      "These are the numbers: frozenset({'1', '2', '3'})\n"
     ]
    }
   ],
   "source": [
    "#wednesday exercise 1: \n",
    "bankNums = []\n",
    "done = False\n",
    "while not done:\n",
    "    num = input(\"Enter a bank number (or enter 'quit' when finished)\".lower)\n",
    "    if num == \"quit\":\n",
    "        output = frozenset(bankNums)\n",
    "        print(\"Thanks for using the program \\nThese are the numbers: {}\".format(output))\n",
    "        done = True\n",
    "    else:\n",
    "        bankNums.append(num)"
   ]
  },
  {
   "cell_type": "markdown",
   "metadata": {},
   "source": [
    "# Thursday - Readinga nd Writing Files\n",
    "by default, python comes with an open() function that allows us to create or modify files. Needs the file name and the mode as parameters"
   ]
  },
  {
   "cell_type": "code",
   "execution_count": null,
   "metadata": {},
   "outputs": [
    {
     "name": "stdout",
     "output_type": "stream",
     "text": [
      "this is a test\n"
     ]
    }
   ],
   "source": [
    "#opening/creating and writing to a text file\n",
    "f = open(\"test.txt\", \"w+\")  #open file in writing and reading mode\n",
    "f.write(\"this is a test\")\n",
    "f.close()   #anytime you open a file, you must always close it\n",
    "\n",
    "#reading from a text file\n",
    "f = open(\"test.txt\",\"r\")\n",
    "data = f.read()\n",
    "f.close\n",
    "print(data)\n",
    "\n",
    "#using \"w\" will overwrite the entrire file. Use \"a\" for appending"
   ]
  },
  {
   "cell_type": "code",
   "execution_count": 3,
   "metadata": {},
   "outputs": [],
   "source": [
    "#opening/creating and writing to a csv file\n",
    "import csv\n",
    "with open(\"test.csv\", mode=\"w\", newline=\"\") as f:\n",
    "    writer = csv.writer(f, delimiter=\",\")\n",
    "    writer.writerow([\"Name\", \"City\"])\n",
    "    writer.writerow([\"Craig Lou\", \"Taiwan\"])"
   ]
  },
  {
   "cell_type": "code",
   "execution_count": 4,
   "metadata": {},
   "outputs": [
    {
     "name": "stdout",
     "output_type": "stream",
     "text": [
      "['Name', 'City']\n",
      "['Craig Lou', 'Taiwan']\n"
     ]
    }
   ],
   "source": [
    "#reading from csv file\n",
    "with open(\"test.csv\", mode=\"r\") as f:\n",
    "    reader = csv.reader(f, delimiter=\",\")\n",
    "    for row in reader:\n",
    "        print(row)"
   ]
  },
  {
   "cell_type": "code",
   "execution_count": 5,
   "metadata": {},
   "outputs": [
    {
     "name": "stdout",
     "output_type": "stream",
     "text": [
      "18\n"
     ]
    }
   ],
   "source": [
    "#Thursday exercise 1:\n",
    "f = open(\"ThursEx1.txt\", \"w+\")  #open file in writing and reading mode\n",
    "f.write(input(\"Enter your favourite number:\"))\n",
    "f.close()   #anytime you open a file, you must always close it\n",
    "#reading from a text file\n",
    "f = open(\"ThursEx1.txt\",\"r\")\n",
    "data = f.read()\n",
    "f.close\n",
    "print(data)"
   ]
  },
  {
   "cell_type": "code",
   "execution_count": 6,
   "metadata": {},
   "outputs": [
    {
     "name": "stdout",
     "output_type": "stream",
     "text": [
      "['Dave', 'Dennis', 'Petar', 'Jess']\n",
      "['Python', 'C', 'Java', 'Python']\n"
     ]
    }
   ],
   "source": [
    "#Thursday exercise 2:\n",
    "data = {\n",
    "    \"name\": [\"Dave\", \"Dennis\", \"Petar\", \"Jess\"],\n",
    "    \"language\": [\"Python\", \"C\", \"Java\", \"Python\"]\n",
    "}\n",
    "import csv\n",
    "with open(\"ThursEx2.csv\", mode=\"w\", newline=\"\") as f:\n",
    "    writer = csv.writer(f, delimiter=\",\")\n",
    "    writer.writerow(data[\"name\"])\n",
    "    writer.writerow(data[\"language\"])\n",
    "\n",
    "with open(\"ThursEx2.csv\", mode=\"r\") as f:\n",
    "    reader = csv.reader(f, delimiter=\",\")\n",
    "    for row in reader:\n",
    "        print(row)"
   ]
  },
  {
   "cell_type": "markdown",
   "metadata": {},
   "source": [
    "# Friday - creating a user database with CSV files\n",
    "Building a replica of a user database with CSV files. We'll be able to take input and allow users to log in/log out/register"
   ]
  },
  {
   "cell_type": "markdown",
   "metadata": {},
   "source": [
    "Final Design - \n",
    "1. Check to see if user is logged in.\n",
    "    a. If logged in, ask if they would like to log out/quit.\n",
    "        i. Either quit or log out user and restart.\n",
    "    b. Else, ask if they would like to log in/register/quit.\n",
    "        i. If log in, ask user for e-mail/password.\n",
    "            1. If correct, log user in and restart.\n",
    "            2. Else, display error and restart.\n",
    "        ii. If register, ask for e-mail/password/password2.\n",
    "            1. If passwords match, save user and restart.\n",
    "            2. Else, display error and restart.\n",
    "        iii. If quit, say thank you and exit program."
   ]
  },
  {
   "cell_type": "code",
   "execution_count": null,
   "metadata": {},
   "outputs": [
    {
     "name": "stdout",
     "output_type": "stream",
     "text": [
      "1. Login\n",
      "2. Register\n",
      "3. Quit\n",
      "To login, please enter your info:\n",
      "you are now logged in!\n",
      "1. Logout\n",
      "2. Change password\n",
      "3. Quit\n"
     ]
    },
    {
     "ename": "TypeError",
     "evalue": "changePassword() missing 3 required positional arguments: 'username', 'current_password', and 'new_password'",
     "output_type": "error",
     "traceback": [
      "\u001b[0;31m---------------------------------------------------------------------------\u001b[0m",
      "\u001b[0;31mTypeError\u001b[0m                                 Traceback (most recent call last)",
      "Cell \u001b[0;32mIn[22], line 107\u001b[0m\n\u001b[1;32m    105\u001b[0m     logged_in \u001b[38;5;241m=\u001b[39m loginUser()\n\u001b[1;32m    106\u001b[0m \u001b[38;5;28;01melif\u001b[39;00m choice \u001b[38;5;241m==\u001b[39m \u001b[38;5;124m\"\u001b[39m\u001b[38;5;124mchange password\u001b[39m\u001b[38;5;124m\"\u001b[39m \u001b[38;5;129;01mand\u001b[39;00m logged_in \u001b[38;5;241m==\u001b[39m \u001b[38;5;28;01mTrue\u001b[39;00m:\n\u001b[0;32m--> 107\u001b[0m     \u001b[43mchangePassword\u001b[49m\u001b[43m(\u001b[49m\u001b[43m)\u001b[49m\n\u001b[1;32m    108\u001b[0m \u001b[38;5;28;01melif\u001b[39;00m choice \u001b[38;5;241m==\u001b[39m \u001b[38;5;124m\"\u001b[39m\u001b[38;5;124mquit\u001b[39m\u001b[38;5;124m\"\u001b[39m:\n\u001b[1;32m    109\u001b[0m     active \u001b[38;5;241m=\u001b[39m \u001b[38;5;28;01mFalse\u001b[39;00m\n",
      "\u001b[0;31mTypeError\u001b[0m: changePassword() missing 3 required positional arguments: 'username', 'current_password', and 'new_password'"
     ]
    }
   ],
   "source": [
    "# import necessary pacakges\n",
    "import csv\n",
    "from IPython.display import clear_output\n",
    "\n",
    "# Handle user registration and writing to csv\n",
    "def registerUser():\n",
    "    with open(\"users.csv\", mode=\"a\", newline=\"\") as f:\n",
    "        writer = csv.writer(f, delimiter=\",\")\n",
    "        \n",
    "        print(\"To register, please enter your info:\")\n",
    "        email = input(\"Email: \")\n",
    "        password = input(\"Password: \")\n",
    "        password2 = input(\"Re-type password: \")\n",
    "        \n",
    "        clear_output()\n",
    "        \n",
    "        if password == password2:\n",
    "            writer.writerow([email, password])\n",
    "            print(\"You are now registered!\")\n",
    "        else:\n",
    "            print(\"Something went wrong. Try again.\")\n",
    "\n",
    "#ask for user info and return true to login or false if incorrect info\n",
    "def loginUser():\n",
    "    print(\"To login, please enter your info:\")\n",
    "    email = input(\"Email:\")\n",
    "    password = input(\"Password:\")\n",
    "    \n",
    "    clear_output\n",
    "   \n",
    "    with open(\"users.csv\", mode=\"r\") as f:\n",
    "        reader = csv.reader(f, delimiter=\",\")\n",
    "        \n",
    "        for row in reader:\n",
    "            if row == [email, password]:\n",
    "                print(\"you are now logged in!\")\n",
    "                return True\n",
    "    \n",
    "    print(\"Something went wrong, try again\")\n",
    "    return False\n",
    "\n",
    "\n",
    "#variables for main loop \n",
    "active = True\n",
    "logged_in = False\n",
    "\n",
    "#main loop \n",
    "while active:\n",
    "    if logged_in:\n",
    "        print(\"1. Logout\\n2. Change password\\n3. Quit\")\n",
    "    else:\n",
    "        print(\"1. Login\\n2. Register\\n3. Quit\")\n",
    "    \n",
    "    choice = input(\"What would you like to do?\").lower()\n",
    "    \n",
    "    clear_output\n",
    "\n",
    "    if choice == \"register\" and logged_in == False:\n",
    "        registerUser()\n",
    "    elif choice == \"login\" and logged_in == False:\n",
    "        logged_in = loginUser()\n",
    "    elif choice == \"change password\" and logged_in == True:\n",
    "        changePassword()\n",
    "    elif choice == \"quit\":\n",
    "        active = False\n",
    "        print(\"Thanks for using out software!\")\n",
    "    elif choice == \"logout\" and logged_in == True:\n",
    "        logged_in = False\n",
    "        print(\"You are now logged out.\")\n",
    "    else:\n",
    "        print(\"Sorry, please try again.\")"
   ]
  },
  {
   "cell_type": "markdown",
   "metadata": {},
   "source": [
    "# Friday Workshop"
   ]
  },
  {
   "cell_type": "code",
   "execution_count": 33,
   "metadata": {},
   "outputs": [
    {
     "name": "stdout",
     "output_type": "stream",
     "text": [
      "['Maths', 'Visualisation', 'GPCR']\n",
      "Maths\n",
      "Matt\n",
      "Theo\n",
      "Kenta\n",
      "Maths\n",
      "Visualisation\n",
      "GPCR\n"
     ]
    }
   ],
   "source": [
    "#Dictionary\n",
    "#The below setup is over several lines for visual and clarity purposes\n",
    "sciences = {\n",
    "    \"people\": [\"Matt\", \"Theo\", \"Kenta\"],\n",
    "    \"fieldofresearch\": [\"Maths\", \"Visualisation\", \"GPCR\"]\n",
    "}\n",
    "\n",
    "print(sciences[\"fieldofresearch\"])\n",
    "\n",
    "#write a print statement that prints the first value of the list field of research\n",
    "print(sciences[\"fieldofresearch\"][0])\n",
    "\n",
    "#write a loop that prints out each people and each field of research \n",
    "for item in sciences[\"people\"]:\n",
    "    print(item)\n",
    "for item in sciences[\"fieldofresearch\"]:\n",
    "    print(item)"
   ]
  },
  {
   "cell_type": "code",
   "execution_count": null,
   "metadata": {},
   "outputs": [],
   "source": [
    "#declare an empty dictionary \n",
    "#and then ask user for what the key is:\n",
    "#ask user to enter values into the key:\n",
    "#then write this into a dictionary \n",
    "#print new dictionary \n",
    "\n",
    "userDict = {}\n",
    "done = False\n",
    "key = input(\"What is the key?\")\n",
    "values = []\n",
    "while done:\n",
    "    value = input(\"What are the values for the key?\").lower\n",
    "    if value == \"quit\":\n",
    "        done = True\n",
    "    else:\n",
    "        values.append(value)\n",
    "userDict[key] = values\n",
    "\n",
    "print(userDict)"
   ]
  },
  {
   "cell_type": "code",
   "execution_count": null,
   "metadata": {},
   "outputs": [
    {
     "name": "stdout",
     "output_type": "stream",
     "text": [
      "twirl\n",
      "{'fieldofresearch': ['Maths', 'Visualisation', 'GPCR'], 'choc': 'twirl'}\n"
     ]
    }
   ],
   "source": [
    "#getting users to add new key and value to pre-existing dictionary\n",
    "\n",
    "sciences = {\n",
    "    \"people\": [\"Matt\", \"Theo\", \"Kenta\"],\n",
    "    \"fieldofresearch\": [\"Maths\", \"Visualisation\", \"GPCR\"]\n",
    "}\n",
    "newkey = input(\"What new key do you want to add:\")\n",
    "newvalues = input(\"what new values do you want to add:\")\n",
    "\n",
    "sciences[newkey] = newvalues\n",
    "\n",
    "print(sciences[newkey])\n",
    "\n",
    "#Ask the user which key value to delete, then write a try, except statement to \n",
    "#achieve this, then print new dictionary \n",
    "\n",
    "keyRemove = input(\"What value do you want to delete:\")\n",
    "try:\n",
    "    del sciences[keyRemove]\n",
    "    print(sciences)\n",
    "except:\n",
    "    print(\"that key does not exist!\")"
   ]
  },
  {
   "cell_type": "code",
   "execution_count": null,
   "metadata": {},
   "outputs": [],
   "source": []
  }
 ],
 "metadata": {
  "kernelspec": {
   "display_name": "Python 3",
   "language": "python",
   "name": "python3"
  },
  "language_info": {
   "codemirror_mode": {
    "name": "ipython",
    "version": 3
   },
   "file_extension": ".py",
   "mimetype": "text/x-python",
   "name": "python",
   "nbconvert_exporter": "python",
   "pygments_lexer": "ipython3",
   "version": "3.10.5"
  }
 },
 "nbformat": 4,
 "nbformat_minor": 2
}
